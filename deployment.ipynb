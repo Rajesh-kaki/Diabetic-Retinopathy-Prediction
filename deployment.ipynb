{
 "cells": [
  {
   "cell_type": "code",
   "id": "12bc6678",
   "metadata": {
    "id": "12bc6678",
    "executionInfo": {
     "status": "ok",
     "timestamp": 1754997563174,
     "user_tz": -330,
     "elapsed": 1,
     "user": {
      "displayName": "Rajesh kaki",
      "userId": "09089150325470777959"
     }
    },
    "ExecuteTime": {
     "end_time": "2025-08-12T13:22:28.417049Z",
     "start_time": "2025-08-12T13:22:28.409748Z"
    }
   },
   "source": [
    "3#------------------- Import Libraries -------------------\n",
    "import pandas as pd\n",
    "import numpy as np\n",
    "import matplotlib.pyplot as plt\n",
    "import seaborn as sns\n",
    "\n",
    "from sklearn.model_selection import train_test_split, GridSearchCV, cross_val_score\n",
    "from sklearn.ensemble import RandomForestClassifier, VotingClassifier\n",
    "from sklearn.tree import DecisionTreeClassifier\n",
    "from sklearn.linear_model import LogisticRegression\n",
    "from sklearn.svm import SVC\n",
    "from sklearn.neighbors import KNeighborsClassifier\n",
    "from sklearn.metrics import (accuracy_score, roc_auc_score, classification_report, confusion_matrix, RocCurveDisplay)\n",
    "from sklearn.preprocessing import StandardScaler\n",
    "from sklearn.utils.class_weight import compute_class_weight\n",
    "\n",
    "from scikeras.wrappers import KerasClassifier\n",
    "import tensorflow as tf\n",
    "from tensorflow.keras.models import Sequential\n",
    "from tensorflow.keras.layers import Dense, Dropout, Input\n",
    "from tensorflow.keras.callbacks import ProgbarLogger\n"
   ],
   "outputs": [],
   "execution_count": 7
  },
  {
   "cell_type": "markdown",
   "id": "d345bad8",
   "metadata": {
    "id": "d345bad8"
   },
   "source": [
    "To develop a predictive model or analytical insight that can distinguish between patients at risk of retinopathy versus those not at risk, using the available predictors (age, blood pressure, cholesterol).\n",
    "\n",
    "Type of Problem: Binary classification (Yes/No for retinopathy)\n",
    "\n",
    "Application: Early identification of at-risk patients for retinopathy, potentially helping in preventive care or targeted intervention."
   ]
  },
  {
   "cell_type": "code",
   "id": "24d20001",
   "metadata": {
    "id": "24d20001",
    "executionInfo": {
     "status": "ok",
     "timestamp": 1754997563195,
     "user_tz": -330,
     "elapsed": 20,
     "user": {
      "displayName": "Rajesh kaki",
      "userId": "09089150325470777959"
     }
    },
    "ExecuteTime": {
     "end_time": "2025-08-12T13:22:28.467669Z",
     "start_time": "2025-08-12T13:22:28.450396Z"
    }
   },
   "source": [
    "df = pd.read_csv(\"pronostico_dataset.csv\",sep = ';')"
   ],
   "outputs": [],
   "execution_count": 8
  },
  {
   "cell_type": "code",
   "id": "e618aed6",
   "metadata": {
    "id": "e618aed6",
    "outputId": "33d8b6e1-16bc-46f0-96da-284c48e4f277",
    "colab": {
     "base_uri": "https://localhost:8080/",
     "height": 206
    },
    "executionInfo": {
     "status": "ok",
     "timestamp": 1754997563272,
     "user_tz": -330,
     "elapsed": 76,
     "user": {
      "displayName": "Rajesh kaki",
      "userId": "09089150325470777959"
     }
    },
    "ExecuteTime": {
     "end_time": "2025-08-12T13:22:28.507851Z",
     "start_time": "2025-08-12T13:22:28.476527Z"
    }
   },
   "source": [
    "df.head()"
   ],
   "outputs": [
    {
     "data": {
      "text/plain": [
       "   ID        age  systolic_bp  diastolic_bp  cholesterol    prognosis\n",
       "0   0  77.196340    85.288742     80.021878    79.957109  retinopathy\n",
       "1   1  63.529850    99.379736     84.852361   110.382411  retinopathy\n",
       "2   2  69.003986   111.349455    109.850616   100.828246  retinopathy\n",
       "3   3  82.638210    95.056128     79.666851    87.066303  retinopathy\n",
       "4   4  78.346286   109.154591     90.713220    92.511770  retinopathy"
      ],
      "text/html": [
       "<div>\n",
       "<style scoped>\n",
       "    .dataframe tbody tr th:only-of-type {\n",
       "        vertical-align: middle;\n",
       "    }\n",
       "\n",
       "    .dataframe tbody tr th {\n",
       "        vertical-align: top;\n",
       "    }\n",
       "\n",
       "    .dataframe thead th {\n",
       "        text-align: right;\n",
       "    }\n",
       "</style>\n",
       "<table border=\"1\" class=\"dataframe\">\n",
       "  <thead>\n",
       "    <tr style=\"text-align: right;\">\n",
       "      <th></th>\n",
       "      <th>ID</th>\n",
       "      <th>age</th>\n",
       "      <th>systolic_bp</th>\n",
       "      <th>diastolic_bp</th>\n",
       "      <th>cholesterol</th>\n",
       "      <th>prognosis</th>\n",
       "    </tr>\n",
       "  </thead>\n",
       "  <tbody>\n",
       "    <tr>\n",
       "      <th>0</th>\n",
       "      <td>0</td>\n",
       "      <td>77.196340</td>\n",
       "      <td>85.288742</td>\n",
       "      <td>80.021878</td>\n",
       "      <td>79.957109</td>\n",
       "      <td>retinopathy</td>\n",
       "    </tr>\n",
       "    <tr>\n",
       "      <th>1</th>\n",
       "      <td>1</td>\n",
       "      <td>63.529850</td>\n",
       "      <td>99.379736</td>\n",
       "      <td>84.852361</td>\n",
       "      <td>110.382411</td>\n",
       "      <td>retinopathy</td>\n",
       "    </tr>\n",
       "    <tr>\n",
       "      <th>2</th>\n",
       "      <td>2</td>\n",
       "      <td>69.003986</td>\n",
       "      <td>111.349455</td>\n",
       "      <td>109.850616</td>\n",
       "      <td>100.828246</td>\n",
       "      <td>retinopathy</td>\n",
       "    </tr>\n",
       "    <tr>\n",
       "      <th>3</th>\n",
       "      <td>3</td>\n",
       "      <td>82.638210</td>\n",
       "      <td>95.056128</td>\n",
       "      <td>79.666851</td>\n",
       "      <td>87.066303</td>\n",
       "      <td>retinopathy</td>\n",
       "    </tr>\n",
       "    <tr>\n",
       "      <th>4</th>\n",
       "      <td>4</td>\n",
       "      <td>78.346286</td>\n",
       "      <td>109.154591</td>\n",
       "      <td>90.713220</td>\n",
       "      <td>92.511770</td>\n",
       "      <td>retinopathy</td>\n",
       "    </tr>\n",
       "  </tbody>\n",
       "</table>\n",
       "</div>"
      ]
     },
     "execution_count": 9,
     "metadata": {},
     "output_type": "execute_result"
    }
   ],
   "execution_count": 9
  },
  {
   "cell_type": "code",
   "id": "1858c7d8",
   "metadata": {
    "id": "1858c7d8",
    "outputId": "4688a39a-6605-41d2-b299-c93535db03e5",
    "colab": {
     "base_uri": "https://localhost:8080/"
    },
    "executionInfo": {
     "status": "ok",
     "timestamp": 1754997563280,
     "user_tz": -330,
     "elapsed": 6,
     "user": {
      "displayName": "Rajesh kaki",
      "userId": "09089150325470777959"
     }
    },
    "ExecuteTime": {
     "end_time": "2025-08-12T13:22:28.535536Z",
     "start_time": "2025-08-12T13:22:28.528796Z"
    }
   },
   "source": [
    "df.shape"
   ],
   "outputs": [
    {
     "data": {
      "text/plain": [
       "(6000, 6)"
      ]
     },
     "execution_count": 10,
     "metadata": {},
     "output_type": "execute_result"
    }
   ],
   "execution_count": 10
  },
  {
   "cell_type": "code",
   "id": "bf9f726e",
   "metadata": {
    "id": "bf9f726e",
    "executionInfo": {
     "status": "ok",
     "timestamp": 1754997563281,
     "user_tz": -330,
     "elapsed": 4,
     "user": {
      "displayName": "Rajesh kaki",
      "userId": "09089150325470777959"
     }
    },
    "ExecuteTime": {
     "end_time": "2025-08-12T13:22:28.576653Z",
     "start_time": "2025-08-12T13:22:28.565691Z"
    }
   },
   "source": [
    "df = df.drop('ID',axis = 1)"
   ],
   "outputs": [],
   "execution_count": 11
  },
  {
   "cell_type": "code",
   "id": "d596ebd7",
   "metadata": {
    "id": "d596ebd7",
    "outputId": "6470f532-9388-4407-e0a6-4fd9b3430052",
    "colab": {
     "base_uri": "https://localhost:8080/"
    },
    "executionInfo": {
     "status": "ok",
     "timestamp": 1754997563281,
     "user_tz": -330,
     "elapsed": 3,
     "user": {
      "displayName": "Rajesh kaki",
      "userId": "09089150325470777959"
     }
    },
    "ExecuteTime": {
     "end_time": "2025-08-12T13:22:28.615969Z",
     "start_time": "2025-08-12T13:22:28.599429Z"
    }
   },
   "source": [
    "duplicate_count = df.duplicated().sum()\n",
    "print(f\"Number of duplicate rows: {duplicate_count}\")"
   ],
   "outputs": [
    {
     "name": "stdout",
     "output_type": "stream",
     "text": [
      "Number of duplicate rows: 0\n"
     ]
    }
   ],
   "execution_count": 12
  },
  {
   "cell_type": "code",
   "id": "498f4751",
   "metadata": {
    "id": "498f4751",
    "outputId": "5ef50659-3ef0-4605-b57c-ecb14b538e01",
    "scrolled": true,
    "colab": {
     "base_uri": "https://localhost:8080/"
    },
    "executionInfo": {
     "status": "ok",
     "timestamp": 1754997563284,
     "user_tz": -330,
     "elapsed": 4,
     "user": {
      "displayName": "Rajesh kaki",
      "userId": "09089150325470777959"
     }
    },
    "ExecuteTime": {
     "end_time": "2025-08-12T13:22:28.672828Z",
     "start_time": "2025-08-12T13:22:28.656817Z"
    }
   },
   "source": [
    "df.info()"
   ],
   "outputs": [
    {
     "name": "stdout",
     "output_type": "stream",
     "text": [
      "<class 'pandas.core.frame.DataFrame'>\n",
      "RangeIndex: 6000 entries, 0 to 5999\n",
      "Data columns (total 5 columns):\n",
      " #   Column        Non-Null Count  Dtype  \n",
      "---  ------        --------------  -----  \n",
      " 0   age           6000 non-null   float64\n",
      " 1   systolic_bp   6000 non-null   float64\n",
      " 2   diastolic_bp  6000 non-null   float64\n",
      " 3   cholesterol   6000 non-null   float64\n",
      " 4   prognosis     6000 non-null   object \n",
      "dtypes: float64(4), object(1)\n",
      "memory usage: 234.5+ KB\n"
     ]
    }
   ],
   "execution_count": 13
  },
  {
   "cell_type": "markdown",
   "id": "bb3f2837",
   "metadata": {
    "id": "bb3f2837"
   },
   "source": [
    "This dataset contains medical data on patients, aiming to predict the prognosis of retinopathy based on patient attributes. The key columns are:\n",
    "\n",
    "ID (all zero in this sample; may indicate single-center or anonymized data)\n",
    "\n",
    "age: Patient age (continuous variable)\n",
    "\n",
    "systolic_bp: Systolic blood pressure (mmHg; continuous)\n",
    "\n",
    "diastolic_bp: Diastolic blood pressure (mmHg; continuous)\n",
    "\n",
    "cholesterol: Serum cholesterol level (mg/dL; continuous)\n",
    "\n",
    "prognosis: Target variable; either \"retinopathy\" (presence) or \"no_retinopathy\" (absence)"
   ]
  },
  {
   "cell_type": "code",
   "id": "19dabd7e",
   "metadata": {
    "id": "19dabd7e",
    "outputId": "165165e3-0541-4ca6-da7e-052409946b17",
    "colab": {
     "base_uri": "https://localhost:8080/",
     "height": 300
    },
    "executionInfo": {
     "status": "ok",
     "timestamp": 1754997563322,
     "user_tz": -330,
     "elapsed": 37,
     "user": {
      "displayName": "Rajesh kaki",
      "userId": "09089150325470777959"
     }
    },
    "ExecuteTime": {
     "end_time": "2025-08-12T13:22:28.730044Z",
     "start_time": "2025-08-12T13:22:28.699030Z"
    }
   },
   "source": [
    "df.describe()"
   ],
   "outputs": [
    {
     "data": {
      "text/plain": [
       "               age  systolic_bp  diastolic_bp  cholesterol\n",
       "count  6000.000000  6000.000000   6000.000000  6000.000000\n",
       "mean     60.464121   100.694822     90.505547   100.628255\n",
       "std       8.564392    10.669267      9.648200    10.433915\n",
       "min      35.164761    69.675429     62.807105    69.967453\n",
       "25%      54.371941    93.267420     83.641788    93.202373\n",
       "50%      59.831159   100.119926     89.912429   100.060637\n",
       "75%      65.809652   107.439501     96.682405   107.250829\n",
       "max     103.279497   151.699660    133.456382   148.233544"
      ],
      "text/html": [
       "<div>\n",
       "<style scoped>\n",
       "    .dataframe tbody tr th:only-of-type {\n",
       "        vertical-align: middle;\n",
       "    }\n",
       "\n",
       "    .dataframe tbody tr th {\n",
       "        vertical-align: top;\n",
       "    }\n",
       "\n",
       "    .dataframe thead th {\n",
       "        text-align: right;\n",
       "    }\n",
       "</style>\n",
       "<table border=\"1\" class=\"dataframe\">\n",
       "  <thead>\n",
       "    <tr style=\"text-align: right;\">\n",
       "      <th></th>\n",
       "      <th>age</th>\n",
       "      <th>systolic_bp</th>\n",
       "      <th>diastolic_bp</th>\n",
       "      <th>cholesterol</th>\n",
       "    </tr>\n",
       "  </thead>\n",
       "  <tbody>\n",
       "    <tr>\n",
       "      <th>count</th>\n",
       "      <td>6000.000000</td>\n",
       "      <td>6000.000000</td>\n",
       "      <td>6000.000000</td>\n",
       "      <td>6000.000000</td>\n",
       "    </tr>\n",
       "    <tr>\n",
       "      <th>mean</th>\n",
       "      <td>60.464121</td>\n",
       "      <td>100.694822</td>\n",
       "      <td>90.505547</td>\n",
       "      <td>100.628255</td>\n",
       "    </tr>\n",
       "    <tr>\n",
       "      <th>std</th>\n",
       "      <td>8.564392</td>\n",
       "      <td>10.669267</td>\n",
       "      <td>9.648200</td>\n",
       "      <td>10.433915</td>\n",
       "    </tr>\n",
       "    <tr>\n",
       "      <th>min</th>\n",
       "      <td>35.164761</td>\n",
       "      <td>69.675429</td>\n",
       "      <td>62.807105</td>\n",
       "      <td>69.967453</td>\n",
       "    </tr>\n",
       "    <tr>\n",
       "      <th>25%</th>\n",
       "      <td>54.371941</td>\n",
       "      <td>93.267420</td>\n",
       "      <td>83.641788</td>\n",
       "      <td>93.202373</td>\n",
       "    </tr>\n",
       "    <tr>\n",
       "      <th>50%</th>\n",
       "      <td>59.831159</td>\n",
       "      <td>100.119926</td>\n",
       "      <td>89.912429</td>\n",
       "      <td>100.060637</td>\n",
       "    </tr>\n",
       "    <tr>\n",
       "      <th>75%</th>\n",
       "      <td>65.809652</td>\n",
       "      <td>107.439501</td>\n",
       "      <td>96.682405</td>\n",
       "      <td>107.250829</td>\n",
       "    </tr>\n",
       "    <tr>\n",
       "      <th>max</th>\n",
       "      <td>103.279497</td>\n",
       "      <td>151.699660</td>\n",
       "      <td>133.456382</td>\n",
       "      <td>148.233544</td>\n",
       "    </tr>\n",
       "  </tbody>\n",
       "</table>\n",
       "</div>"
      ]
     },
     "execution_count": 14,
     "metadata": {},
     "output_type": "execute_result"
    }
   ],
   "execution_count": 14
  },
  {
   "cell_type": "code",
   "id": "a2aa3e5d",
   "metadata": {
    "id": "a2aa3e5d",
    "outputId": "911bc9c7-8930-4b71-c4c0-7f55f39802cf",
    "scrolled": true,
    "colab": {
     "base_uri": "https://localhost:8080/",
     "height": 241
    },
    "executionInfo": {
     "status": "ok",
     "timestamp": 1754997563357,
     "user_tz": -330,
     "elapsed": 34,
     "user": {
      "displayName": "Rajesh kaki",
      "userId": "09089150325470777959"
     }
    },
    "ExecuteTime": {
     "end_time": "2025-08-12T13:22:28.768797Z",
     "start_time": "2025-08-12T13:22:28.758976Z"
    }
   },
   "source": [
    "df.isnull().sum()"
   ],
   "outputs": [
    {
     "data": {
      "text/plain": [
       "age             0\n",
       "systolic_bp     0\n",
       "diastolic_bp    0\n",
       "cholesterol     0\n",
       "prognosis       0\n",
       "dtype: int64"
      ]
     },
     "execution_count": 15,
     "metadata": {},
     "output_type": "execute_result"
    }
   ],
   "execution_count": 15
  },
  {
   "cell_type": "code",
   "id": "f3d1d2f0",
   "metadata": {
    "id": "f3d1d2f0",
    "executionInfo": {
     "status": "ok",
     "timestamp": 1754997563359,
     "user_tz": -330,
     "elapsed": 1,
     "user": {
      "displayName": "Rajesh kaki",
      "userId": "09089150325470777959"
     }
    },
    "ExecuteTime": {
     "end_time": "2025-08-12T13:22:28.801632Z",
     "start_time": "2025-08-12T13:22:28.795431Z"
    }
   },
   "source": [
    "df=df.dropna()"
   ],
   "outputs": [],
   "execution_count": 16
  },
  {
   "cell_type": "code",
   "id": "b2a9a663",
   "metadata": {
    "id": "b2a9a663",
    "outputId": "ef4dda28-8878-45e5-eb0f-67c6a8ef22a5",
    "colab": {
     "base_uri": "https://localhost:8080/",
     "height": 521
    },
    "executionInfo": {
     "status": "ok",
     "timestamp": 1754997563609,
     "user_tz": -330,
     "elapsed": 250,
     "user": {
      "displayName": "Rajesh kaki",
      "userId": "09089150325470777959"
     }
    },
    "ExecuteTime": {
     "end_time": "2025-08-12T13:22:29.084333Z",
     "start_time": "2025-08-12T13:22:28.827315Z"
    }
   },
   "source": [
    "print(df['prognosis'].value_counts())\n",
    "sns.countplot(x='prognosis', data=df)\n",
    "plt.show()"
   ],
   "outputs": [
    {
     "name": "stdout",
     "output_type": "stream",
     "text": [
      "prognosis\n",
      "retinopathy       3087\n",
      "no_retinopathy    2913\n",
      "Name: count, dtype: int64\n"
     ]
    },
    {
     "data": {
      "text/plain": [
       "<Figure size 640x480 with 1 Axes>"
      ],
      "image/png": "[encoded data removed]"
     },
     "metadata": {},
     "output_type": "display_data"
    }
   ],
   "execution_count": 17
  },
  {
   "cell_type": "markdown",
   "id": "yfLJBjzu227c",
   "metadata": {
    "id": "yfLJBjzu227c"
   },
   "source": [
    "Here,\n",
    "* The bar heights represent the number of instances in each class.\n",
    "\n",
    "* There is a slightly higher number of cases with retinopathy than without,but the distribution is relatively balanced.   \n",
    "\n"
   ]
  },
  {
   "cell_type": "code",
   "id": "8397e4f0",
   "metadata": {
    "id": "8397e4f0",
    "outputId": "1253d6f9-08e8-498a-870f-01b79a5c968d",
    "colab": {
     "base_uri": "https://localhost:8080/"
    },
    "executionInfo": {
     "status": "ok",
     "timestamp": 1754997563612,
     "user_tz": -330,
     "elapsed": 3,
     "user": {
      "displayName": "Rajesh kaki",
      "userId": "09089150325470777959"
     }
    },
    "ExecuteTime": {
     "end_time": "2025-08-12T13:22:29.103119Z",
     "start_time": "2025-08-12T13:22:29.096577Z"
    }
   },
   "source": [
    "df['prognosis'].unique()"
   ],
   "outputs": [
    {
     "data": {
      "text/plain": [
       "array(['retinopathy', 'no_retinopathy'], dtype=object)"
      ]
     },
     "execution_count": 18,
     "metadata": {},
     "output_type": "execute_result"
    }
   ],
   "execution_count": 18
  },
  {
   "cell_type": "code",
   "id": "372e24f3",
   "metadata": {
    "id": "372e24f3",
    "executionInfo": {
     "status": "ok",
     "timestamp": 1754997563626,
     "user_tz": -330,
     "elapsed": 2,
     "user": {
      "displayName": "Rajesh kaki",
      "userId": "09089150325470777959"
     }
    },
    "ExecuteTime": {
     "end_time": "2025-08-12T13:22:29.157218Z",
     "start_time": "2025-08-12T13:22:29.146048Z"
    }
   },
   "source": [
    "df['prognosis'] = (\n",
    "    df['prognosis']\n",
    "    .astype(str)                   # Convert None/NaN to 'nan' temporarily\n",
    "    .str.strip()                   # Remove leading/trailing whitespace\n",
    "    .str.lower()                   # Convert to lowercase\n",
    "    .map({'retinopathy': 1, 'no_retinopathy': 0})      # Map to binary\n",
    ")"
   ],
   "outputs": [],
   "execution_count": 19
  },
  {
   "cell_type": "code",
   "id": "fde6c598",
   "metadata": {
    "id": "fde6c598",
    "executionInfo": {
     "status": "ok",
     "timestamp": 1754997563627,
     "user_tz": -330,
     "elapsed": 0,
     "user": {
      "displayName": "Rajesh kaki",
      "userId": "09089150325470777959"
     }
    },
    "ExecuteTime": {
     "end_time": "2025-08-12T13:22:29.199686Z",
     "start_time": "2025-08-12T13:22:29.192353Z"
    }
   },
   "source": [
    "X = df.drop('prognosis',axis = 1)"
   ],
   "outputs": [],
   "execution_count": 20
  },
  {
   "cell_type": "code",
   "id": "111c9d01",
   "metadata": {
    "id": "111c9d01",
    "executionInfo": {
     "status": "ok",
     "timestamp": 1754997563628,
     "user_tz": -330,
     "elapsed": 1,
     "user": {
      "displayName": "Rajesh kaki",
      "userId": "09089150325470777959"
     }
    },
    "ExecuteTime": {
     "end_time": "2025-08-12T13:22:29.212895Z",
     "start_time": "2025-08-12T13:22:29.208214Z"
    }
   },
   "source": [
    "y = df['prognosis']"
   ],
   "outputs": [],
   "execution_count": 21
  },
  {
   "cell_type": "code",
   "id": "3f734ea0",
   "metadata": {
    "id": "3f734ea0",
    "outputId": "663c5e36-ca8d-47ff-9537-44a7e5828d26",
    "colab": {
     "base_uri": "https://localhost:8080/",
     "height": 806
    },
    "executionInfo": {
     "status": "ok",
     "timestamp": 1754997564404,
     "user_tz": -330,
     "elapsed": 776,
     "user": {
      "displayName": "Rajesh kaki",
      "userId": "09089150325470777959"
     }
    },
    "ExecuteTime": {
     "end_time": "2025-08-12T13:22:30.014592Z",
     "start_time": "2025-08-12T13:22:29.227572Z"
    }
   },
   "source": [
    "X.hist(bins=20, figsize=(12, 8), color='skyblue', edgecolor='black')\n",
    "plt.suptitle(\"Histogram of Features\")\n",
    "plt.tight_layout()\n",
    "plt.show()"
   ],
   "outputs": [
    {
     "data": {
      "text/plain": [
       "<Figure size 1200x800 with 4 Axes>"
      ],
      "image/png": "[encoded data removed]"
     },
     "metadata": {},
     "output_type": "display_data"
    }
   ],
   "execution_count": 22
  },
  {
   "cell_type": "markdown",
   "id": "DbArbyaV3k6u",
   "metadata": {
    "id": "DbArbyaV3k6u"
   },
   "source": [
    "Here,\n",
    "*  These histograms helps assess the distribution and skewness of each feature.\n",
    "\n",
    "*   Most variables are normally distributed,which is helpful for many statistical and machine learning models\n",
    "\n",
    "*   No severe skewness or unusual patterns are visible,indicating clean and balanced data.\n"
   ]
  },
  {
   "cell_type": "code",
   "id": "a5aaf61f",
   "metadata": {
    "id": "a5aaf61f",
    "outputId": "1fc09981-69f5-4b06-d56f-109a6b9f8bcd",
    "scrolled": true,
    "colab": {
     "base_uri": "https://localhost:8080/",
     "height": 599
    },
    "executionInfo": {
     "status": "ok",
     "timestamp": 1754997564647,
     "user_tz": -330,
     "elapsed": 240,
     "user": {
      "displayName": "Rajesh kaki",
      "userId": "09089150325470777959"
     }
    },
    "ExecuteTime": {
     "end_time": "2025-08-12T13:22:30.457453Z",
     "start_time": "2025-08-12T13:22:30.051176Z"
    }
   },
   "source": [
    "plt.figure(figsize=(12, 6))\n",
    "sns.boxplot(data=X)\n",
    "plt.title(\"Boxplot for Numerical Features\")\n",
    "plt.xticks(rotation=45)\n",
    "plt.show()"
   ],
   "outputs": [
    {
     "data": {
      "text/plain": [
       "<Figure size 1200x600 with 1 Axes>"
      ],
      "image/png": "[encoded data removed]"
     },
     "metadata": {},
     "output_type": "display_data"
    }
   ],
   "execution_count": 23
  },
  {
   "cell_type": "markdown",
   "id": "53dRZVsB4Jac",
   "metadata": {
    "id": "53dRZVsB4Jac"
   },
   "source": [
    "Here,\n",
    "*   Outliers were detected in all numerical features using boxplots.\n",
    "\n",
    "*  The presence of outliers suggests potential variability or noise in the dataset, which can affect model training and predictions.\n",
    "*   It may be necessary to treat outliers using techniques such as IQR-based filtering, winsorization, or robust scaling, depending on the model sensitivity.\n",
    "\n",
    "\n",
    "* These boxplots serve as a key visual diagnostic to understand the spread and anomalies in the features.  \n",
    "\n"
   ]
  },
  {
   "cell_type": "code",
   "id": "52cb124c",
   "metadata": {
    "id": "52cb124c",
    "outputId": "c18b6df6-405f-462e-8c6f-db3e001893c6",
    "scrolled": true,
    "colab": {
     "base_uri": "https://localhost:8080/",
     "height": 545
    },
    "executionInfo": {
     "status": "ok",
     "timestamp": 1754997564859,
     "user_tz": -330,
     "elapsed": 211,
     "user": {
      "displayName": "Rajesh kaki",
      "userId": "09089150325470777959"
     }
    },
    "ExecuteTime": {
     "end_time": "2025-08-12T13:22:30.810990Z",
     "start_time": "2025-08-12T13:22:30.481638Z"
    }
   },
   "source": [
    "plt.figure(figsize=(8, 6))\n",
    "sns.heatmap(X.corr(), annot=True, cmap='coolwarm')\n",
    "plt.title(\"Correlation Heatmap\")\n",
    "plt.show()"
   ],
   "outputs": [
    {
     "data": {
      "text/plain": [
       "<Figure size 800x600 with 2 Axes>"
      ],
      "image/png": "[encoded data removed]"
     },
     "metadata": {},
     "output_type": "display_data"
    }
   ],
   "execution_count": 24
  },
  {
   "cell_type": "markdown",
   "id": "BMTrlCRU46hN",
   "metadata": {
    "id": "BMTrlCRU46hN"
   },
   "source": [
    "Here,\n",
    "*   The heatmap shows how the features are related to each other.\n",
    "\n",
    "*   systolic_bp, diastolic_bp, and cholesterol have a moderate positive relationship (around 0.4).\n",
    "\n",
    "*   age has very low or no correlation with the other features.\n",
    "\n",
    "*   This means changes in age do not strongly affect the other variables.\n",
    "*   The heatmap helps us understand which features move together and may help in feature selection.\n",
    "  \n",
    "\n",
    "\n"
   ]
  },
  {
   "cell_type": "code",
   "id": "293a9dde",
   "metadata": {
    "id": "293a9dde",
    "outputId": "d0b605af-f92a-4db7-b22e-f5fce7181cbe",
    "colab": {
     "base_uri": "https://localhost:8080/",
     "height": 545
    },
    "executionInfo": {
     "status": "ok",
     "timestamp": 1754997565089,
     "user_tz": -330,
     "elapsed": 232,
     "user": {
      "displayName": "Rajesh kaki",
      "userId": "09089150325470777959"
     }
    },
    "ExecuteTime": {
     "end_time": "2025-08-12T13:22:31.260030Z",
     "start_time": "2025-08-12T13:22:30.883113Z"
    }
   },
   "source": [
    "plt.figure(figsize=(8, 6))\n",
    "sns.heatmap(df.corr(), annot=True, cmap='coolwarm')\n",
    "plt.title(\"Correlation Heatmap\")\n",
    "plt.show()"
   ],
   "outputs": [
    {
     "data": {
      "text/plain": [
       "<Figure size 800x600 with 2 Axes>"
      ],
      "image/png": "[encoded data removed]"
     },
     "metadata": {},
     "output_type": "display_data"
    }
   ],
   "execution_count": 25
  },
  {
   "cell_type": "code",
   "id": "eddf04b1",
   "metadata": {
    "id": "eddf04b1",
    "outputId": "3de62862-0436-41aa-b606-c72bf61456e0",
    "colab": {
     "base_uri": "https://localhost:8080/"
    },
    "executionInfo": {
     "status": "ok",
     "timestamp": 1754997565095,
     "user_tz": -330,
     "elapsed": 5,
     "user": {
      "displayName": "Rajesh kaki",
      "userId": "09089150325470777959"
     }
    },
    "ExecuteTime": {
     "end_time": "2025-08-12T13:22:31.307785Z",
     "start_time": "2025-08-12T13:22:31.283512Z"
    }
   },
   "source": [
    "numeric_cols = X.select_dtypes(include='number')\n",
    "\n",
    "def detect_outliers_iqr(data):\n",
    "    outliers = {}\n",
    "    for col in data.columns:\n",
    "        Q1 = data[col].quantile(0.25)\n",
    "        Q3 = data[col].quantile(0.75)\n",
    "        IQR = Q3 - Q1\n",
    "        lower_bound = Q1 - 1.5 * IQR\n",
    "        upper_bound = Q3 + 1.5 * IQR\n",
    "        outlier_count = ((data[col] < lower_bound) | (data[col] > upper_bound)).sum()\n",
    "        outliers[col] = outlier_count\n",
    "    return pd.Series(outliers)\n",
    "\n",
    "\n",
    "outliers_found = detect_outliers_iqr(numeric_cols)\n",
    "print(\"Number of outliers in each numerical column:\\n\")\n",
    "print(outliers_found)"
   ],
   "outputs": [
    {
     "name": "stdout",
     "output_type": "stream",
     "text": [
      "Number of outliers in each numerical column:\n",
      "\n",
      "age             65\n",
      "systolic_bp     55\n",
      "diastolic_bp    55\n",
      "cholesterol     54\n",
      "dtype: int64\n"
     ]
    }
   ],
   "execution_count": 26
  },
  {
   "cell_type": "markdown",
   "id": "eb75a59f",
   "metadata": {
    "id": "eb75a59f"
   },
   "source": [
    "We are using the Interquartile Range (IQR) technique to detect outliers in each numerical column.\n",
    "\n",
    "- IQR measures the middle spread of the data (between the 25th and 75th percentiles).\n",
    "- Any value that lies 1.5 × IQR below Q1 or above Q3 is considered an outlier.\n",
    "- This method works well for identifying extreme values without being affected by the mean or standard deviation."
   ]
  },
  {
   "cell_type": "code",
   "id": "7d781251",
   "metadata": {
    "id": "7d781251",
    "outputId": "5d9436b2-ab18-4398-b5b1-adaa6df88345",
    "scrolled": true,
    "colab": {
     "base_uri": "https://localhost:8080/",
     "height": 210
    },
    "executionInfo": {
     "status": "ok",
     "timestamp": 1754997565098,
     "user_tz": -330,
     "elapsed": 2,
     "user": {
      "displayName": "Rajesh kaki",
      "userId": "09089150325470777959"
     }
    },
    "ExecuteTime": {
     "end_time": "2025-08-12T13:22:31.360118Z",
     "start_time": "2025-08-12T13:22:31.348103Z"
    }
   },
   "source": [
    "X.skew()"
   ],
   "outputs": [
    {
     "data": {
      "text/plain": [
       "age             0.441141\n",
       "systolic_bp     0.334655\n",
       "diastolic_bp    0.336555\n",
       "cholesterol     0.361514\n",
       "dtype: float64"
      ]
     },
     "execution_count": 27,
     "metadata": {},
     "output_type": "execute_result"
    }
   ],
   "execution_count": 27
  },
  {
   "cell_type": "markdown",
   "id": "943c281e",
   "metadata": {
    "id": "943c281e"
   },
   "source": [
    "We are checking the skewness of each numeric column using `.skew()`.\n",
    "\n",
    "- Skewness tells us how the data is distributed:\n",
    "  - A skewness near 0 means the data is fairly symmetrical.\n",
    "  - A positive skew means the data has a longer tail on the right (more high values).\n",
    "  - A negative skew means a longer tail on the left (more low values)."
   ]
  },
  {
   "cell_type": "code",
   "id": "48bfdcbc",
   "metadata": {
    "id": "48bfdcbc",
    "executionInfo": {
     "status": "ok",
     "timestamp": 1754997565100,
     "user_tz": -330,
     "elapsed": 1,
     "user": {
      "displayName": "Rajesh kaki",
      "userId": "09089150325470777959"
     }
    },
    "ExecuteTime": {
     "end_time": "2025-08-12T13:22:31.409836Z",
     "start_time": "2025-08-12T13:22:31.403979Z"
    }
   },
   "source": [
    "def winsorize_iqr(data):\n",
    "    numeric_cols = data.select_dtypes(include='number').columns\n",
    "\n",
    "    for col in numeric_cols:\n",
    "        Q1 = data[col].quantile(0.25)\n",
    "        Q3 = data[col].quantile(0.75)\n",
    "        IQR = Q3 - Q1\n",
    "        lower = Q1 - 1.5 * IQR\n",
    "        upper = Q3 + 1.5 * IQR\n",
    "\n",
    "        data[col] = data[col].clip(lower, upper)\n",
    "\n",
    "    return data"
   ],
   "outputs": [],
   "execution_count": 28
  },
  {
   "cell_type": "markdown",
   "id": "0bc9eba6",
   "metadata": {
    "id": "0bc9eba6"
   },
   "source": [
    "##### winsorize_iqr works like this:\n",
    "\n",
    "- If a value is less than the lower bound - it is replaced with the lower bound\n",
    "- If a value is greater than the upper bound - it is replaced with the upper bound\n",
    "- Values within the range are unchanged"
   ]
  },
  {
   "cell_type": "code",
   "id": "d6f78261",
   "metadata": {
    "colab": {
     "base_uri": "https://localhost:8080/"
    },
    "id": "d6f78261",
    "executionInfo": {
     "status": "ok",
     "timestamp": 1754997565147,
     "user_tz": -330,
     "elapsed": 45,
     "user": {
      "displayName": "Rajesh kaki",
      "userId": "09089150325470777959"
     }
    },
    "outputId": "c4fd410a-fbff-4e7d-94ca-036c85099bfd",
    "ExecuteTime": {
     "end_time": "2025-08-12T13:22:31.439083Z",
     "start_time": "2025-08-12T13:22:31.428646Z"
    }
   },
   "source": [
    "X.info()"
   ],
   "outputs": [
    {
     "name": "stdout",
     "output_type": "stream",
     "text": [
      "<class 'pandas.core.frame.DataFrame'>\n",
      "RangeIndex: 6000 entries, 0 to 5999\n",
      "Data columns (total 4 columns):\n",
      " #   Column        Non-Null Count  Dtype  \n",
      "---  ------        --------------  -----  \n",
      " 0   age           6000 non-null   float64\n",
      " 1   systolic_bp   6000 non-null   float64\n",
      " 2   diastolic_bp  6000 non-null   float64\n",
      " 3   cholesterol   6000 non-null   float64\n",
      "dtypes: float64(4)\n",
      "memory usage: 187.6 KB\n"
     ]
    }
   ],
   "execution_count": 29
  },
  {
   "cell_type": "code",
   "id": "e124f3f1",
   "metadata": {
    "id": "e124f3f1",
    "executionInfo": {
     "status": "ok",
     "timestamp": 1754997565147,
     "user_tz": -330,
     "elapsed": 6,
     "user": {
      "displayName": "Rajesh kaki",
      "userId": "09089150325470777959"
     }
    },
    "ExecuteTime": {
     "end_time": "2025-08-12T13:22:31.501488Z",
     "start_time": "2025-08-12T13:22:31.481477Z"
    }
   },
   "source": [
    "X = winsorize_iqr(X)"
   ],
   "outputs": [],
   "execution_count": 30
  },
  {
   "cell_type": "code",
   "id": "6ae889f5",
   "metadata": {
    "id": "6ae889f5",
    "outputId": "b655640e-c38d-44a8-f98f-21020a58260b",
    "colab": {
     "base_uri": "https://localhost:8080/"
    },
    "executionInfo": {
     "status": "ok",
     "timestamp": 1754997565148,
     "user_tz": -330,
     "elapsed": 6,
     "user": {
      "displayName": "Rajesh kaki",
      "userId": "09089150325470777959"
     }
    },
    "ExecuteTime": {
     "end_time": "2025-08-12T13:22:31.517565Z",
     "start_time": "2025-08-12T13:22:31.511044Z"
    }
   },
   "source": [
    "X.shape"
   ],
   "outputs": [
    {
     "data": {
      "text/plain": [
       "(6000, 4)"
      ]
     },
     "execution_count": 31,
     "metadata": {},
     "output_type": "execute_result"
    }
   ],
   "execution_count": 31
  },
  {
   "cell_type": "code",
   "id": "fd986421",
   "metadata": {
    "id": "fd986421",
    "executionInfo": {
     "status": "ok",
     "timestamp": 1754997565148,
     "user_tz": -330,
     "elapsed": 2,
     "user": {
      "displayName": "Rajesh kaki",
      "userId": "09089150325470777959"
     }
    },
    "ExecuteTime": {
     "end_time": "2025-08-12T13:22:31.557657Z",
     "start_time": "2025-08-12T13:22:31.545450Z"
    }
   },
   "source": [
    "from sklearn.preprocessing import StandardScaler\n",
    "scaler = StandardScaler()\n",
    "X_scaled = scaler.fit_transform(X)"
   ],
   "outputs": [],
   "execution_count": 32
  },
  {
   "cell_type": "markdown",
   "id": "642d998a",
   "metadata": {
    "id": "642d998a"
   },
   "source": [
    "- normalize data to ensure that every feature contributes fairly and to improve the performance and stability of ML algorithms\n",
    "- Tree-based models (Decision Trees, Random Forests, XGBoost) don't require normalization\n",
    "- probabilistic models(Naive Bayes) that don’t use distance metrics or gradient"
   ]
  },
  {
   "cell_type": "code",
   "id": "e7bd6d7f",
   "metadata": {
    "id": "e7bd6d7f",
    "outputId": "335f0aac-0527-4336-fa1f-02b9355a945b",
    "colab": {
     "base_uri": "https://localhost:8080/"
    },
    "executionInfo": {
     "status": "ok",
     "timestamp": 1754997565193,
     "user_tz": -330,
     "elapsed": 5,
     "user": {
      "displayName": "Rajesh kaki",
      "userId": "09089150325470777959"
     }
    },
    "ExecuteTime": {
     "end_time": "2025-08-12T13:22:31.585471Z",
     "start_time": "2025-08-12T13:22:31.578867Z"
    }
   },
   "source": [
    "X_scaled"
   ],
   "outputs": [
    {
     "data": {
      "text/plain": [
       "array([[ 1.98780321, -1.45758536, -1.09476087, -2.00360948],\n",
       "       [ 0.36809089, -0.12108382, -0.58884773,  0.95146283],\n",
       "       [ 1.01686947,  1.01421926,  2.02930566,  0.02350989],\n",
       "       ...,\n",
       "       [-0.57620663, -0.2119756 ,  1.2801745 ,  1.97065304],\n",
       "       [ 0.36087392,  0.58359391, -0.25283452,  0.53089025],\n",
       "       [ 0.24684488, -0.35620729, -0.37669204,  0.78081579]],\n",
       "      shape=(6000, 4))"
      ]
     },
     "execution_count": 33,
     "metadata": {},
     "output_type": "execute_result"
    }
   ],
   "execution_count": 33
  },
  {
   "cell_type": "markdown",
   "id": "374c27c2",
   "metadata": {
    "id": "374c27c2"
   },
   "source": [
    "Model Building"
   ]
  },
  {
   "cell_type": "code",
   "id": "3809754b",
   "metadata": {
    "id": "3809754b",
    "executionInfo": {
     "status": "ok",
     "timestamp": 1754997565193,
     "user_tz": -330,
     "elapsed": 3,
     "user": {
      "displayName": "Rajesh kaki",
      "userId": "09089150325470777959"
     }
    },
    "ExecuteTime": {
     "end_time": "2025-08-12T13:22:31.626234Z",
     "start_time": "2025-08-12T13:22:31.610116Z"
    }
   },
   "source": [
    "from sklearn.model_selection import train_test_split\n",
    "X_train,X_test,y_train,y_test = train_test_split(X_scaled,y,stratify = y ,test_size = 0.2)"
   ],
   "outputs": [],
   "execution_count": 34
  },
  {
   "cell_type": "code",
   "id": "a959c5be",
   "metadata": {
    "id": "a959c5be",
    "executionInfo": {
     "status": "ok",
     "timestamp": 1754997565193,
     "user_tz": -330,
     "elapsed": 2,
     "user": {
      "displayName": "Rajesh kaki",
      "userId": "09089150325470777959"
     }
    },
    "ExecuteTime": {
     "end_time": "2025-08-12T13:22:31.647241Z",
     "start_time": "2025-08-12T13:22:31.638414Z"
    }
   },
   "source": [
    "# Class Weights\n",
    "class_weights = compute_class_weight('balanced', classes=np.unique(y_train), y=y_train)\n",
    "class_weight_dict = dict(enumerate(class_weights))"
   ],
   "outputs": [],
   "execution_count": 35
  },
  {
   "cell_type": "code",
   "id": "23155b3c",
   "metadata": {
    "id": "23155b3c",
    "executionInfo": {
     "status": "ok",
     "timestamp": 1754997565194,
     "user_tz": -330,
     "elapsed": 2,
     "user": {
      "displayName": "Rajesh kaki",
      "userId": "09089150325470777959"
     }
    },
    "ExecuteTime": {
     "end_time": "2025-08-12T13:22:31.665276Z",
     "start_time": "2025-08-12T13:22:31.655507Z"
    }
   },
   "source": [
    "#Feature Scaling for ANN, SVM, KNN, Ensemble\n",
    "scaler = StandardScaler()\n",
    "X_train_scaled = scaler.fit_transform(X_train)\n",
    "X_test_scaled = scaler.fit_transform(X_test)"
   ],
   "outputs": [],
   "execution_count": 36
  },
  {
   "cell_type": "markdown",
   "id": "812beb2b",
   "metadata": {
    "id": "812beb2b"
   },
   "source": [
    "Hyperparameter tuning"
   ]
  },
  {
   "cell_type": "code",
   "id": "5ff76800",
   "metadata": {
    "id": "5ff76800",
    "executionInfo": {
     "status": "ok",
     "timestamp": 1754997565194,
     "user_tz": -330,
     "elapsed": 2,
     "user": {
      "displayName": "Rajesh kaki",
      "userId": "09089150325470777959"
     }
    },
    "ExecuteTime": {
     "end_time": "2025-08-12T13:22:31.686327Z",
     "start_time": "2025-08-12T13:22:31.677191Z"
    }
   },
   "source": [
    "#Hyperparameter Grids\n",
    "rf_params = {\n",
    "    'n_estimators': [50, 100],\n",
    "    'max_depth': [None, 10, 20],\n",
    "    'min_samples_split': [2, 5],\n",
    "    'min_samples_leaf': [1, 2],\n",
    "    'class_weight': [None, 'balanced']\n",
    "}\n",
    "dt_params = {\n",
    "    'max_depth': [None, 10, 20],\n",
    "    'min_samples_split': [2, 5],\n",
    "    'min_samples_leaf': [1, 2],\n",
    "    'class_weight': [None, 'balanced']\n",
    "}\n",
    "lr_params = {\n",
    "    'C': [0.01, 0.1, 1, 10],\n",
    "    'penalty': ['l2'],\n",
    "    'solver': ['lbfgs'],\n",
    "    'class_weight': [None, 'balanced']\n",
    "}\n",
    "svm_params = {\n",
    "    'C': [0.1, 1, 10],\n",
    "    'kernel': ['linear', 'rbf'],\n",
    "    'gamma': ['scale', 'auto'],\n",
    "    'class_weight': [None, 'balanced']\n",
    "}\n",
    "knn_params = {\n",
    "    'n_neighbors': [3, 5, 7],\n",
    "    'weights': ['uniform', 'distance'],\n",
    "    'metric': ['minkowski', 'euclidean']\n",
    "}"
   ],
   "outputs": [],
   "execution_count": 37
  },
  {
   "cell_type": "code",
   "id": "b6ffb74c",
   "metadata": {
    "id": "b6ffb74c",
    "executionInfo": {
     "status": "ok",
     "timestamp": 1754997565194,
     "user_tz": -330,
     "elapsed": 0,
     "user": {
      "displayName": "Rajesh kaki",
      "userId": "09089150325470777959"
     }
    },
    "ExecuteTime": {
     "end_time": "2025-08-12T13:22:31.706519Z",
     "start_time": "2025-08-12T13:22:31.699752Z"
    }
   },
   "source": [
    "# Hyperparameter Tuning Function\n",
    "def tune_model(model, params, X_train, y_train):\n",
    "    grid = GridSearchCV(model, params, cv=5, scoring='accuracy', n_jobs=-1)\n",
    "    grid.fit(X_train, y_train)\n",
    "    print(f\"Tuned {model.__class__.__name__} - Best params: {grid.best_params_}\")\n",
    "    return grid.best_estimator_"
   ],
   "outputs": [],
   "execution_count": 38
  },
  {
   "cell_type": "code",
   "id": "b38498a1",
   "metadata": {
    "colab": {
     "base_uri": "https://localhost:8080/"
    },
    "id": "b38498a1",
    "executionInfo": {
     "status": "ok",
     "timestamp": 1754998045095,
     "user_tz": -330,
     "elapsed": 479900,
     "user": {
      "displayName": "Rajesh kaki",
      "userId": "09089150325470777959"
     }
    },
    "outputId": "9c3704ac-3185-43a3-c53c-fbbf5c5a7504",
    "ExecuteTime": {
     "end_time": "2025-08-12T13:25:08.771700Z",
     "start_time": "2025-08-12T13:22:31.718922Z"
    }
   },
   "source": [
    "print(\"Starting hyperparameter tuning for scikit-learn models...\")\n",
    "rf_best = tune_model(RandomForestClassifier(random_state=42), rf_params, X_train, y_train)\n",
    "dt_best = tune_model(DecisionTreeClassifier(random_state=42), dt_params, X_train, y_train)\n",
    "lr_best = tune_model(LogisticRegression(max_iter=1000, random_state=42), lr_params, X_train, y_train)\n",
    "svm_best = tune_model(SVC(probability=True, random_state=42), svm_params, X_train_scaled, y_train)\n",
    "knn_best = tune_model(KNeighborsClassifier(), knn_params, X_train_scaled, y_train)\n"
   ],
   "outputs": [
    {
     "name": "stdout",
     "output_type": "stream",
     "text": [
      "Starting hyperparameter tuning for scikit-learn models...\n",
      "Tuned RandomForestClassifier - Best params: {'class_weight': 'balanced', 'max_depth': 10, 'min_samples_leaf': 2, 'min_samples_split': 5, 'n_estimators': 50}\n",
      "Tuned DecisionTreeClassifier - Best params: {'class_weight': None, 'max_depth': 10, 'min_samples_leaf': 1, 'min_samples_split': 2}\n",
      "Tuned LogisticRegression - Best params: {'C': 1, 'class_weight': None, 'penalty': 'l2', 'solver': 'lbfgs'}\n",
      "Tuned SVC - Best params: {'C': 0.1, 'class_weight': None, 'gamma': 'scale', 'kernel': 'rbf'}\n",
      "Tuned KNeighborsClassifier - Best params: {'metric': 'minkowski', 'n_neighbors': 7, 'weights': 'uniform'}\n"
     ]
    }
   ],
   "execution_count": 39
  },
  {
   "cell_type": "code",
   "id": "688ecd22",
   "metadata": {
    "colab": {
     "base_uri": "https://localhost:8080/",
     "height": 136
    },
    "id": "688ecd22",
    "executionInfo": {
     "status": "ok",
     "timestamp": 1754998049065,
     "user_tz": -330,
     "elapsed": 3968,
     "user": {
      "displayName": "Rajesh kaki",
      "userId": "09089150325470777959"
     }
    },
    "outputId": "d4f84b5a-6e21-40ad-cc47-e9d96ce4771d",
    "ExecuteTime": {
     "end_time": "2025-08-12T13:25:13.882650Z",
     "start_time": "2025-08-12T13:25:08.813207Z"
    }
   },
   "source": [
    "# -------------------- Ensemble Model ----------------------\n",
    "ensemble = VotingClassifier(\n",
    "    estimators=[ ('lr', lr_best), ('svm', svm_best)],\n",
    "    voting='soft'\n",
    ")\n",
    "ensemble.fit(X_train_scaled, y_train)\n"
   ],
   "outputs": [
    {
     "data": {
      "text/plain": [
       "VotingClassifier(estimators=[('lr',\n",
       "                              LogisticRegression(C=1, max_iter=1000,\n",
       "                                                 random_state=42)),\n",
       "                             ('svm',\n",
       "                              SVC(C=0.1, probability=True, random_state=42))],\n",
       "                 voting='soft')"
      ],
      "text/html": [
       "<style>#sk-container-id-1 {\n",
       "  /* Definition of color scheme common for light and dark mode */\n",
       "  --sklearn-color-text: #000;\n",
       "  --sklearn-color-text-muted: #666;\n",
       "  --sklearn-color-line: gray;\n",
       "  /* Definition of color scheme for unfitted estimators */\n",
       "  --sklearn-color-unfitted-level-0: #fff5e6;\n",
       "  --sklearn-color-unfitted-level-1: #f6e4d2;\n",
       "  --sklearn-color-unfitted-level-2: #ffe0b3;\n",
       "  --sklearn-color-unfitted-level-3: chocolate;\n",
       "  /* Definition of color scheme for fitted estimators */\n",
       "  --sklearn-color-fitted-level-0: #f0f8ff;\n",
       "  --sklearn-color-fitted-level-1: #d4ebff;\n",
       "  --sklearn-color-fitted-level-2: #b3dbfd;\n",
       "  --sklearn-color-fitted-level-3: cornflowerblue;\n",
       "\n",
       "  /* Specific color for light theme */\n",
       "  --sklearn-color-text-on-default-background: var(--sg-text-color, var(--theme-code-foreground, var(--jp-content-font-color1, black)));\n",
       "  --sklearn-color-background: var(--sg-background-color, var(--theme-background, var(--jp-layout-color0, white)));\n",
       "  --sklearn-color-border-box: var(--sg-text-color, var(--theme-code-foreground, var(--jp-content-font-color1, black)));\n",
       "  --sklearn-color-icon: #696969;\n",
       "\n",
       "  @media (prefers-color-scheme: dark) {\n",
       "    /* Redefinition of color scheme for dark theme */\n",
       "    --sklearn-color-text-on-default-background: var(--sg-text-color, var(--theme-code-foreground, var(--jp-content-font-color1, white)));\n",
       "    --sklearn-color-background: var(--sg-background-color, var(--theme-background, var(--jp-layout-color0, #111)));\n",
       "    --sklearn-color-border-box: var(--sg-text-color, var(--theme-code-foreground, var(--jp-content-font-color1, white)));\n",
       "    --sklearn-color-icon: #878787;\n",
       "  }\n",
       "}\n",
       "\n",
       "#sk-container-id-1 {\n",
       "  color: var(--sklearn-color-text);\n",
       "}\n",
       "\n",
       "#sk-container-id-1 pre {\n",
       "  padding: 0;\n",
       "}\n",
       "\n",
       "#sk-container-id-1 input.sk-hidden--visually {\n",
       "  border: 0;\n",
       "  clip: rect(1px 1px 1px 1px);\n",
       "  clip: rect(1px, 1px, 1px, 1px);\n",
       "  height: 1px;\n",
       "  margin: -1px;\n",
       "  overflow: hidden;\n",
       "  padding: 0;\n",
       "  position: absolute;\n",
       "  width: 1px;\n",
       "}\n",
       "\n",
       "#sk-container-id-1 div.sk-dashed-wrapped {\n",
       "  border: 1px dashed var(--sklearn-color-line);\n",
       "  margin: 0 0.4em 0.5em 0.4em;\n",
       "  box-sizing: border-box;\n",
       "  padding-bottom: 0.4em;\n",
       "  background-color: var(--sklearn-color-background);\n",
       "}\n",
       "\n",
       "#sk-container-id-1 div.sk-container {\n",
       "  /* jupyter's `normalize.less` sets `[hidden] { display: none; }`\n",
       "     but bootstrap.min.css set `[hidden] { display: none !important; }`\n",
       "     so we also need the `!important` here to be able to override the\n",
       "     default hidden behavior on the sphinx rendered scikit-learn.org.\n",
       "     See: https://github.com/scikit-learn/scikit-learn/issues/21755 */\n",
       "  display: inline-block !important;\n",
       "  position: relative;\n",
       "}\n",
       "\n",
       "#sk-container-id-1 div.sk-text-repr-fallback {\n",
       "  display: none;\n",
       "}\n",
       "\n",
       "div.sk-parallel-item,\n",
       "div.sk-serial,\n",
       "div.sk-item {\n",
       "  /* draw centered vertical line to link estimators */\n",
       "  background-image: linear-gradient(var(--sklearn-color-text-on-default-background), var(--sklearn-color-text-on-default-background));\n",
       "  background-size: 2px 100%;\n",
       "  background-repeat: no-repeat;\n",
       "  background-position: center center;\n",
       "}\n",
       "\n",
       "/* Parallel-specific style estimator block */\n",
       "\n",
       "#sk-container-id-1 div.sk-parallel-item::after {\n",
       "  content: \"\";\n",
       "  width: 100%;\n",
       "  border-bottom: 2px solid var(--sklearn-color-text-on-default-background);\n",
       "  flex-grow: 1;\n",
       "}\n",
       "\n",
       "#sk-container-id-1 div.sk-parallel {\n",
       "  display: flex;\n",
       "  align-items: stretch;\n",
       "  justify-content: center;\n",
       "  background-color: var(--sklearn-color-background);\n",
       "  position: relative;\n",
       "}\n",
       "\n",
       "#sk-container-id-1 div.sk-parallel-item {\n",
       "  display: flex;\n",
       "  flex-direction: column;\n",
       "}\n",
       "\n",
       "#sk-container-id-1 div.sk-parallel-item:first-child::after {\n",
       "  align-self: flex-end;\n",
       "  width: 50%;\n",
       "}\n",
       "\n",
       "#sk-container-id-1 div.sk-parallel-item:last-child::after {\n",
       "  align-self: flex-start;\n",
       "  width: 50%;\n",
       "}\n",
       "\n",
       "#sk-container-id-1 div.sk-parallel-item:only-child::after {\n",
       "  width: 0;\n",
       "}\n",
       "\n",
       "/* Serial-specific style estimator block */\n",
       "\n",
       "#sk-container-id-1 div.sk-serial {\n",
       "  display: flex;\n",
       "  flex-direction: column;\n",
       "  align-items: center;\n",
       "  background-color: var(--sklearn-color-background);\n",
       "  padding-right: 1em;\n",
       "  padding-left: 1em;\n",
       "}\n",
       "\n",
       "\n",
       "/* Toggleable style: style used for estimator/Pipeline/ColumnTransformer box that is\n",
       "clickable and can be expanded/collapsed.\n",
       "- Pipeline and ColumnTransformer use this feature and define the default style\n",
       "- Estimators will overwrite some part of the style using the `sk-estimator` class\n",
       "*/\n",
       "\n",
       "/* Pipeline and ColumnTransformer style (default) */\n",
       "\n",
       "#sk-container-id-1 div.sk-toggleable {\n",
       "  /* Default theme specific background. It is overwritten whether we have a\n",
       "  specific estimator or a Pipeline/ColumnTransformer */\n",
       "  background-color: var(--sklearn-color-background);\n",
       "}\n",
       "\n",
       "/* Toggleable label */\n",
       "#sk-container-id-1 label.sk-toggleable__label {\n",
       "  cursor: pointer;\n",
       "  display: flex;\n",
       "  width: 100%;\n",
       "  margin-bottom: 0;\n",
       "  padding: 0.5em;\n",
       "  box-sizing: border-box;\n",
       "  text-align: center;\n",
       "  align-items: start;\n",
       "  justify-content: space-between;\n",
       "  gap: 0.5em;\n",
       "}\n",
       "\n",
       "#sk-container-id-1 label.sk-toggleable__label .caption {\n",
       "  font-size: 0.6rem;\n",
       "  font-weight: lighter;\n",
       "  color: var(--sklearn-color-text-muted);\n",
       "}\n",
       "\n",
       "#sk-container-id-1 label.sk-toggleable__label-arrow:before {\n",
       "  /* Arrow on the left of the label */\n",
       "  content: \"▸\";\n",
       "  float: left;\n",
       "  margin-right: 0.25em;\n",
       "  color: var(--sklearn-color-icon);\n",
       "}\n",
       "\n",
       "#sk-container-id-1 label.sk-toggleable__label-arrow:hover:before {\n",
       "  color: var(--sklearn-color-text);\n",
       "}\n",
       "\n",
       "/* Toggleable content - dropdown */\n",
       "\n",
       "#sk-container-id-1 div.sk-toggleable__content {\n",
       "  display: none;\n",
       "  text-align: left;\n",
       "  /* unfitted */\n",
       "  background-color: var(--sklearn-color-unfitted-level-0);\n",
       "}\n",
       "\n",
       "#sk-container-id-1 div.sk-toggleable__content.fitted {\n",
       "  /* fitted */\n",
       "  background-color: var(--sklearn-color-fitted-level-0);\n",
       "}\n",
       "\n",
       "#sk-container-id-1 div.sk-toggleable__content pre {\n",
       "  margin: 0.2em;\n",
       "  border-radius: 0.25em;\n",
       "  color: var(--sklearn-color-text);\n",
       "  /* unfitted */\n",
       "  background-color: var(--sklearn-color-unfitted-level-0);\n",
       "}\n",
       "\n",
       "#sk-container-id-1 div.sk-toggleable__content.fitted pre {\n",
       "  /* unfitted */\n",
       "  background-color: var(--sklearn-color-fitted-level-0);\n",
       "}\n",
       "\n",
       "#sk-container-id-1 input.sk-toggleable__control:checked~div.sk-toggleable__content {\n",
       "  /* Expand drop-down */\n",
       "  display: block;\n",
       "  width: 100%;\n",
       "  overflow: visible;\n",
       "}\n",
       "\n",
       "#sk-container-id-1 input.sk-toggleable__control:checked~label.sk-toggleable__label-arrow:before {\n",
       "  content: \"▾\";\n",
       "}\n",
       "\n",
       "/* Pipeline/ColumnTransformer-specific style */\n",
       "\n",
       "#sk-container-id-1 div.sk-label input.sk-toggleable__control:checked~label.sk-toggleable__label {\n",
       "  color: var(--sklearn-color-text);\n",
       "  background-color: var(--sklearn-color-unfitted-level-2);\n",
       "}\n",
       "\n",
       "#sk-container-id-1 div.sk-label.fitted input.sk-toggleable__control:checked~label.sk-toggleable__label {\n",
       "  background-color: var(--sklearn-color-fitted-level-2);\n",
       "}\n",
       "\n",
       "/* Estimator-specific style */\n",
       "\n",
       "/* Colorize estimator box */\n",
       "#sk-container-id-1 div.sk-estimator input.sk-toggleable__control:checked~label.sk-toggleable__label {\n",
       "  /* unfitted */\n",
       "  background-color: var(--sklearn-color-unfitted-level-2);\n",
       "}\n",
       "\n",
       "#sk-container-id-1 div.sk-estimator.fitted input.sk-toggleable__control:checked~label.sk-toggleable__label {\n",
       "  /* fitted */\n",
       "  background-color: var(--sklearn-color-fitted-level-2);\n",
       "}\n",
       "\n",
       "#sk-container-id-1 div.sk-label label.sk-toggleable__label,\n",
       "#sk-container-id-1 div.sk-label label {\n",
       "  /* The background is the default theme color */\n",
       "  color: var(--sklearn-color-text-on-default-background);\n",
       "}\n",
       "\n",
       "/* On hover, darken the color of the background */\n",
       "#sk-container-id-1 div.sk-label:hover label.sk-toggleable__label {\n",
       "  color: var(--sklearn-color-text);\n",
       "  background-color: var(--sklearn-color-unfitted-level-2);\n",
       "}\n",
       "\n",
       "/* Label box, darken color on hover, fitted */\n",
       "#sk-container-id-1 div.sk-label.fitted:hover label.sk-toggleable__label.fitted {\n",
       "  color: var(--sklearn-color-text);\n",
       "  background-color: var(--sklearn-color-fitted-level-2);\n",
       "}\n",
       "\n",
       "/* Estimator label */\n",
       "\n",
       "#sk-container-id-1 div.sk-label label {\n",
       "  font-family: monospace;\n",
       "  font-weight: bold;\n",
       "  display: inline-block;\n",
       "  line-height: 1.2em;\n",
       "}\n",
       "\n",
       "#sk-container-id-1 div.sk-label-container {\n",
       "  text-align: center;\n",
       "}\n",
       "\n",
       "/* Estimator-specific */\n",
       "#sk-container-id-1 div.sk-estimator {\n",
       "  font-family: monospace;\n",
       "  border: 1px dotted var(--sklearn-color-border-box);\n",
       "  border-radius: 0.25em;\n",
       "  box-sizing: border-box;\n",
       "  margin-bottom: 0.5em;\n",
       "  /* unfitted */\n",
       "  background-color: var(--sklearn-color-unfitted-level-0);\n",
       "}\n",
       "\n",
       "#sk-container-id-1 div.sk-estimator.fitted {\n",
       "  /* fitted */\n",
       "  background-color: var(--sklearn-color-fitted-level-0);\n",
       "}\n",
       "\n",
       "/* on hover */\n",
       "#sk-container-id-1 div.sk-estimator:hover {\n",
       "  /* unfitted */\n",
       "  background-color: var(--sklearn-color-unfitted-level-2);\n",
       "}\n",
       "\n",
       "#sk-container-id-1 div.sk-estimator.fitted:hover {\n",
       "  /* fitted */\n",
       "  background-color: var(--sklearn-color-fitted-level-2);\n",
       "}\n",
       "\n",
       "/* Specification for estimator info (e.g. \"i\" and \"?\") */\n",
       "\n",
       "/* Common style for \"i\" and \"?\" */\n",
       "\n",
       ".sk-estimator-doc-link,\n",
       "a:link.sk-estimator-doc-link,\n",
       "a:visited.sk-estimator-doc-link {\n",
       "  float: right;\n",
       "  font-size: smaller;\n",
       "  line-height: 1em;\n",
       "  font-family: monospace;\n",
       "  background-color: var(--sklearn-color-background);\n",
       "  border-radius: 1em;\n",
       "  height: 1em;\n",
       "  width: 1em;\n",
       "  text-decoration: none !important;\n",
       "  margin-left: 0.5em;\n",
       "  text-align: center;\n",
       "  /* unfitted */\n",
       "  border: var(--sklearn-color-unfitted-level-1) 1pt solid;\n",
       "  color: var(--sklearn-color-unfitted-level-1);\n",
       "}\n",
       "\n",
       ".sk-estimator-doc-link.fitted,\n",
       "a:link.sk-estimator-doc-link.fitted,\n",
       "a:visited.sk-estimator-doc-link.fitted {\n",
       "  /* fitted */\n",
       "  border: var(--sklearn-color-fitted-level-1) 1pt solid;\n",
       "  color: var(--sklearn-color-fitted-level-1);\n",
       "}\n",
       "\n",
       "/* On hover */\n",
       "div.sk-estimator:hover .sk-estimator-doc-link:hover,\n",
       ".sk-estimator-doc-link:hover,\n",
       "div.sk-label-container:hover .sk-estimator-doc-link:hover,\n",
       ".sk-estimator-doc-link:hover {\n",
       "  /* unfitted */\n",
       "  background-color: var(--sklearn-color-unfitted-level-3);\n",
       "  color: var(--sklearn-color-background);\n",
       "  text-decoration: none;\n",
       "}\n",
       "\n",
       "div.sk-estimator.fitted:hover .sk-estimator-doc-link.fitted:hover,\n",
       ".sk-estimator-doc-link.fitted:hover,\n",
       "div.sk-label-container:hover .sk-estimator-doc-link.fitted:hover,\n",
       ".sk-estimator-doc-link.fitted:hover {\n",
       "  /* fitted */\n",
       "  background-color: var(--sklearn-color-fitted-level-3);\n",
       "  color: var(--sklearn-color-background);\n",
       "  text-decoration: none;\n",
       "}\n",
       "\n",
       "/* Span, style for the box shown on hovering the info icon */\n",
       ".sk-estimator-doc-link span {\n",
       "  display: none;\n",
       "  z-index: 9999;\n",
       "  position: relative;\n",
       "  font-weight: normal;\n",
       "  right: .2ex;\n",
       "  padding: .5ex;\n",
       "  margin: .5ex;\n",
       "  width: min-content;\n",
       "  min-width: 20ex;\n",
       "  max-width: 50ex;\n",
       "  color: var(--sklearn-color-text);\n",
       "  box-shadow: 2pt 2pt 4pt #999;\n",
       "  /* unfitted */\n",
       "  background: var(--sklearn-color-unfitted-level-0);\n",
       "  border: .5pt solid var(--sklearn-color-unfitted-level-3);\n",
       "}\n",
       "\n",
       ".sk-estimator-doc-link.fitted span {\n",
       "  /* fitted */\n",
       "  background: var(--sklearn-color-fitted-level-0);\n",
       "  border: var(--sklearn-color-fitted-level-3);\n",
       "}\n",
       "\n",
       ".sk-estimator-doc-link:hover span {\n",
       "  display: block;\n",
       "}\n",
       "\n",
       "/* \"?\"-specific style due to the `<a>` HTML tag */\n",
       "\n",
       "#sk-container-id-1 a.estimator_doc_link {\n",
       "  float: right;\n",
       "  font-size: 1rem;\n",
       "  line-height: 1em;\n",
       "  font-family: monospace;\n",
       "  background-color: var(--sklearn-color-background);\n",
       "  border-radius: 1rem;\n",
       "  height: 1rem;\n",
       "  width: 1rem;\n",
       "  text-decoration: none;\n",
       "  /* unfitted */\n",
       "  color: var(--sklearn-color-unfitted-level-1);\n",
       "  border: var(--sklearn-color-unfitted-level-1) 1pt solid;\n",
       "}\n",
       "\n",
       "#sk-container-id-1 a.estimator_doc_link.fitted {\n",
       "  /* fitted */\n",
       "  border: var(--sklearn-color-fitted-level-1) 1pt solid;\n",
       "  color: var(--sklearn-color-fitted-level-1);\n",
       "}\n",
       "\n",
       "/* On hover */\n",
       "#sk-container-id-1 a.estimator_doc_link:hover {\n",
       "  /* unfitted */\n",
       "  background-color: var(--sklearn-color-unfitted-level-3);\n",
       "  color: var(--sklearn-color-background);\n",
       "  text-decoration: none;\n",
       "}\n",
       "\n",
       "#sk-container-id-1 a.estimator_doc_link.fitted:hover {\n",
       "  /* fitted */\n",
       "  background-color: var(--sklearn-color-fitted-level-3);\n",
       "}\n",
       "\n",
       ".estimator-table summary {\n",
       "    padding: .5rem;\n",
       "    font-family: monospace;\n",
       "    cursor: pointer;\n",
       "}\n",
       "\n",
       ".estimator-table details[open] {\n",
       "    padding-left: 0.1rem;\n",
       "    padding-right: 0.1rem;\n",
       "    padding-bottom: 0.3rem;\n",
       "}\n",
       "\n",
       ".estimator-table .parameters-table {\n",
       "    margin-left: auto !important;\n",
       "    margin-right: auto !important;\n",
       "}\n",
       "\n",
       ".estimator-table .parameters-table tr:nth-child(odd) {\n",
       "    background-color: #fff;\n",
       "}\n",
       "\n",
       ".estimator-table .parameters-table tr:nth-child(even) {\n",
       "    background-color: #f6f6f6;\n",
       "}\n",
       "\n",
       ".estimator-table .parameters-table tr:hover {\n",
       "    background-color: #e0e0e0;\n",
       "}\n",
       "\n",
       ".estimator-table table td {\n",
       "    border: 1px solid rgba(106, 105, 104, 0.232);\n",
       "}\n",
       "\n",
       ".user-set td {\n",
       "    color:rgb(255, 94, 0);\n",
       "    text-align: left;\n",
       "}\n",
       "\n",
       ".user-set td.value pre {\n",
       "    color:rgb(255, 94, 0) !important;\n",
       "    background-color: transparent !important;\n",
       "}\n",
       "\n",
       ".default td {\n",
       "    color: black;\n",
       "    text-align: left;\n",
       "}\n",
       "\n",
       ".user-set td i,\n",
       ".default td i {\n",
       "    color: black;\n",
       "}\n",
       "\n",
       ".copy-paste-icon {\n",
       "    background-image: url(data:image/svg+xml;base64,PHN2ZyB4bWxucz0iaHR0cDovL3d3dy53My5vcmcvMjAwMC9zdmciIHZpZXdCb3g9IjAgMCA0NDggNTEyIj48IS0tIUZvbnQgQXdlc29tZSBGcmVlIDYuNy4yIGJ5IEBmb250YXdlc29tZSAtIGh0dHBzOi8vZm9udGF3ZXNvbWUuY29tIExpY2Vuc2UgLSBodHRwczovL2ZvbnRhd2Vzb21lLmNvbS9saWNlbnNlL2ZyZWUgQ29weXJpZ2h0IDIwMjUgRm9udGljb25zLCBJbmMuLS0+PHBhdGggZD0iTTIwOCAwTDMzMi4xIDBjMTIuNyAwIDI0LjkgNS4xIDMzLjkgMTQuMWw2Ny45IDY3LjljOSA5IDE0LjEgMjEuMiAxNC4xIDMzLjlMNDQ4IDMzNmMwIDI2LjUtMjEuNSA0OC00OCA0OGwtMTkyIDBjLTI2LjUgMC00OC0yMS41LTQ4LTQ4bDAtMjg4YzAtMjYuNSAyMS41LTQ4IDQ4LTQ4ek00OCAxMjhsODAgMCAwIDY0LTY0IDAgMCAyNTYgMTkyIDAgMC0zMiA2NCAwIDAgNDhjMCAyNi41LTIxLjUgNDgtNDggNDhMNDggNTEyYy0yNi41IDAtNDgtMjEuNS00OC00OEwwIDE3NmMwLTI2LjUgMjEuNS00OCA0OC00OHoiLz48L3N2Zz4=);\n",
       "    background-repeat: no-repeat;\n",
       "    background-size: 14px 14px;\n",
       "    background-position: 0;\n",
       "    display: inline-block;\n",
       "    width: 14px;\n",
       "    height: 14px;\n",
       "    cursor: pointer;\n",
       "}\n",
       "</style><body><div id=\"sk-container-id-1\" class=\"sk-top-container\"><div class=\"sk-text-repr-fallback\"><pre>VotingClassifier(estimators=[(&#x27;lr&#x27;,\n",
       "                              LogisticRegression(C=1, max_iter=1000,\n",
       "                                                 random_state=42)),\n",
       "                             (&#x27;svm&#x27;,\n",
       "                              SVC(C=0.1, probability=True, random_state=42))],\n",
       "                 voting=&#x27;soft&#x27;)</pre><b>In a Jupyter environment, please rerun this cell to show the HTML representation or trust the notebook. <br />On GitHub, the HTML representation is unable to render, please try loading this page with nbviewer.org.</b></div><div class=\"sk-container\" hidden><div class=\"sk-item sk-dashed-wrapped\"><div class=\"sk-label-container\"><div class=\"sk-label fitted sk-toggleable\"><input class=\"sk-toggleable__control sk-hidden--visually\" id=\"sk-estimator-id-1\" type=\"checkbox\" ><label for=\"sk-estimator-id-1\" class=\"sk-toggleable__label fitted sk-toggleable__label-arrow\"><div><div>VotingClassifier</div></div><div><a class=\"sk-estimator-doc-link fitted\" rel=\"noreferrer\" target=\"_blank\" href=\"https://scikit-learn.org/1.7/modules/generated/sklearn.ensemble.VotingClassifier.html\">?<span>Documentation for VotingClassifier</span></a><span class=\"sk-estimator-doc-link fitted\">i<span>Fitted</span></span></div></label><div class=\"sk-toggleable__content fitted\" data-param-prefix=\"\">\n",
       "        <div class=\"estimator-table\">\n",
       "            <details>\n",
       "                <summary>Parameters</summary>\n",
       "                <table class=\"parameters-table\">\n",
       "                  <tbody>\n",
       "                    \n",
       "        <tr class=\"user-set\">\n",
       "            <td><i class=\"copy-paste-icon\"\n",
       "                 onclick=\"copyToClipboard('estimators',\n",
       "                          this.parentElement.nextElementSibling)\"\n",
       "            ></i></td>\n",
       "            <td class=\"param\">estimators&nbsp;</td>\n",
       "            <td class=\"value\">[(&#x27;lr&#x27;, ...), (&#x27;svm&#x27;, ...)]</td>\n",
       "        </tr>\n",
       "    \n",
       "\n",
       "        <tr class=\"user-set\">\n",
       "            <td><i class=\"copy-paste-icon\"\n",
       "                 onclick=\"copyToClipboard('voting',\n",
       "                          this.parentElement.nextElementSibling)\"\n",
       "            ></i></td>\n",
       "            <td class=\"param\">voting&nbsp;</td>\n",
       "            <td class=\"value\">&#x27;soft&#x27;</td>\n",
       "        </tr>\n",
       "    \n",
       "\n",
       "        <tr class=\"default\">\n",
       "            <td><i class=\"copy-paste-icon\"\n",
       "                 onclick=\"copyToClipboard('weights',\n",
       "                          this.parentElement.nextElementSibling)\"\n",
       "            ></i></td>\n",
       "            <td class=\"param\">weights&nbsp;</td>\n",
       "            <td class=\"value\">None</td>\n",
       "        </tr>\n",
       "    \n",
       "\n",
       "        <tr class=\"default\">\n",
       "            <td><i class=\"copy-paste-icon\"\n",
       "                 onclick=\"copyToClipboard('n_jobs',\n",
       "                          this.parentElement.nextElementSibling)\"\n",
       "            ></i></td>\n",
       "            <td class=\"param\">n_jobs&nbsp;</td>\n",
       "            <td class=\"value\">None</td>\n",
       "        </tr>\n",
       "    \n",
       "\n",
       "        <tr class=\"default\">\n",
       "            <td><i class=\"copy-paste-icon\"\n",
       "                 onclick=\"copyToClipboard('flatten_transform',\n",
       "                          this.parentElement.nextElementSibling)\"\n",
       "            ></i></td>\n",
       "            <td class=\"param\">flatten_transform&nbsp;</td>\n",
       "            <td class=\"value\">True</td>\n",
       "        </tr>\n",
       "    \n",
       "\n",
       "        <tr class=\"default\">\n",
       "            <td><i class=\"copy-paste-icon\"\n",
       "                 onclick=\"copyToClipboard('verbose',\n",
       "                          this.parentElement.nextElementSibling)\"\n",
       "            ></i></td>\n",
       "            <td class=\"param\">verbose&nbsp;</td>\n",
       "            <td class=\"value\">False</td>\n",
       "        </tr>\n",
       "    \n",
       "                  </tbody>\n",
       "                </table>\n",
       "            </details>\n",
       "        </div>\n",
       "    </div></div></div><div class=\"sk-parallel\"><div class=\"sk-parallel-item\"><div class=\"sk-item\"><div class=\"sk-label-container\"><div class=\"sk-label fitted sk-toggleable\"><label>lr</label></div></div><div class=\"sk-serial\"><div class=\"sk-item\"><div class=\"sk-estimator fitted sk-toggleable\"><input class=\"sk-toggleable__control sk-hidden--visually\" id=\"sk-estimator-id-2\" type=\"checkbox\" ><label for=\"sk-estimator-id-2\" class=\"sk-toggleable__label fitted sk-toggleable__label-arrow\"><div><div>LogisticRegression</div></div><div><a class=\"sk-estimator-doc-link fitted\" rel=\"noreferrer\" target=\"_blank\" href=\"https://scikit-learn.org/1.7/modules/generated/sklearn.linear_model.LogisticRegression.html\">?<span>Documentation for LogisticRegression</span></a></div></label><div class=\"sk-toggleable__content fitted\" data-param-prefix=\"lr__\">\n",
       "        <div class=\"estimator-table\">\n",
       "            <details>\n",
       "                <summary>Parameters</summary>\n",
       "                <table class=\"parameters-table\">\n",
       "                  <tbody>\n",
       "                    \n",
       "        <tr class=\"default\">\n",
       "            <td><i class=\"copy-paste-icon\"\n",
       "                 onclick=\"copyToClipboard('penalty',\n",
       "                          this.parentElement.nextElementSibling)\"\n",
       "            ></i></td>\n",
       "            <td class=\"param\">penalty&nbsp;</td>\n",
       "            <td class=\"value\">&#x27;l2&#x27;</td>\n",
       "        </tr>\n",
       "    \n",
       "\n",
       "        <tr class=\"default\">\n",
       "            <td><i class=\"copy-paste-icon\"\n",
       "                 onclick=\"copyToClipboard('dual',\n",
       "                          this.parentElement.nextElementSibling)\"\n",
       "            ></i></td>\n",
       "            <td class=\"param\">dual&nbsp;</td>\n",
       "            <td class=\"value\">False</td>\n",
       "        </tr>\n",
       "    \n",
       "\n",
       "        <tr class=\"default\">\n",
       "            <td><i class=\"copy-paste-icon\"\n",
       "                 onclick=\"copyToClipboard('tol',\n",
       "                          this.parentElement.nextElementSibling)\"\n",
       "            ></i></td>\n",
       "            <td class=\"param\">tol&nbsp;</td>\n",
       "            <td class=\"value\">0.0001</td>\n",
       "        </tr>\n",
       "    \n",
       "\n",
       "        <tr class=\"default\">\n",
       "            <td><i class=\"copy-paste-icon\"\n",
       "                 onclick=\"copyToClipboard('C',\n",
       "                          this.parentElement.nextElementSibling)\"\n",
       "            ></i></td>\n",
       "            <td class=\"param\">C&nbsp;</td>\n",
       "            <td class=\"value\">1</td>\n",
       "        </tr>\n",
       "    \n",
       "\n",
       "        <tr class=\"default\">\n",
       "            <td><i class=\"copy-paste-icon\"\n",
       "                 onclick=\"copyToClipboard('fit_intercept',\n",
       "                          this.parentElement.nextElementSibling)\"\n",
       "            ></i></td>\n",
       "            <td class=\"param\">fit_intercept&nbsp;</td>\n",
       "            <td class=\"value\">True</td>\n",
       "        </tr>\n",
       "    \n",
       "\n",
       "        <tr class=\"default\">\n",
       "            <td><i class=\"copy-paste-icon\"\n",
       "                 onclick=\"copyToClipboard('intercept_scaling',\n",
       "                          this.parentElement.nextElementSibling)\"\n",
       "            ></i></td>\n",
       "            <td class=\"param\">intercept_scaling&nbsp;</td>\n",
       "            <td class=\"value\">1</td>\n",
       "        </tr>\n",
       "    \n",
       "\n",
       "        <tr class=\"default\">\n",
       "            <td><i class=\"copy-paste-icon\"\n",
       "                 onclick=\"copyToClipboard('class_weight',\n",
       "                          this.parentElement.nextElementSibling)\"\n",
       "            ></i></td>\n",
       "            <td class=\"param\">class_weight&nbsp;</td>\n",
       "            <td class=\"value\">None</td>\n",
       "        </tr>\n",
       "    \n",
       "\n",
       "        <tr class=\"user-set\">\n",
       "            <td><i class=\"copy-paste-icon\"\n",
       "                 onclick=\"copyToClipboard('random_state',\n",
       "                          this.parentElement.nextElementSibling)\"\n",
       "            ></i></td>\n",
       "            <td class=\"param\">random_state&nbsp;</td>\n",
       "            <td class=\"value\">42</td>\n",
       "        </tr>\n",
       "    \n",
       "\n",
       "        <tr class=\"default\">\n",
       "            <td><i class=\"copy-paste-icon\"\n",
       "                 onclick=\"copyToClipboard('solver',\n",
       "                          this.parentElement.nextElementSibling)\"\n",
       "            ></i></td>\n",
       "            <td class=\"param\">solver&nbsp;</td>\n",
       "            <td class=\"value\">&#x27;lbfgs&#x27;</td>\n",
       "        </tr>\n",
       "    \n",
       "\n",
       "        <tr class=\"user-set\">\n",
       "            <td><i class=\"copy-paste-icon\"\n",
       "                 onclick=\"copyToClipboard('max_iter',\n",
       "                          this.parentElement.nextElementSibling)\"\n",
       "            ></i></td>\n",
       "            <td class=\"param\">max_iter&nbsp;</td>\n",
       "            <td class=\"value\">1000</td>\n",
       "        </tr>\n",
       "    \n",
       "\n",
       "        <tr class=\"default\">\n",
       "            <td><i class=\"copy-paste-icon\"\n",
       "                 onclick=\"copyToClipboard('multi_class',\n",
       "                          this.parentElement.nextElementSibling)\"\n",
       "            ></i></td>\n",
       "            <td class=\"param\">multi_class&nbsp;</td>\n",
       "            <td class=\"value\">&#x27;deprecated&#x27;</td>\n",
       "        </tr>\n",
       "    \n",
       "\n",
       "        <tr class=\"default\">\n",
       "            <td><i class=\"copy-paste-icon\"\n",
       "                 onclick=\"copyToClipboard('verbose',\n",
       "                          this.parentElement.nextElementSibling)\"\n",
       "            ></i></td>\n",
       "            <td class=\"param\">verbose&nbsp;</td>\n",
       "            <td class=\"value\">0</td>\n",
       "        </tr>\n",
       "    \n",
       "\n",
       "        <tr class=\"default\">\n",
       "            <td><i class=\"copy-paste-icon\"\n",
       "                 onclick=\"copyToClipboard('warm_start',\n",
       "                          this.parentElement.nextElementSibling)\"\n",
       "            ></i></td>\n",
       "            <td class=\"param\">warm_start&nbsp;</td>\n",
       "            <td class=\"value\">False</td>\n",
       "        </tr>\n",
       "    \n",
       "\n",
       "        <tr class=\"default\">\n",
       "            <td><i class=\"copy-paste-icon\"\n",
       "                 onclick=\"copyToClipboard('n_jobs',\n",
       "                          this.parentElement.nextElementSibling)\"\n",
       "            ></i></td>\n",
       "            <td class=\"param\">n_jobs&nbsp;</td>\n",
       "            <td class=\"value\">None</td>\n",
       "        </tr>\n",
       "    \n",
       "\n",
       "        <tr class=\"default\">\n",
       "            <td><i class=\"copy-paste-icon\"\n",
       "                 onclick=\"copyToClipboard('l1_ratio',\n",
       "                          this.parentElement.nextElementSibling)\"\n",
       "            ></i></td>\n",
       "            <td class=\"param\">l1_ratio&nbsp;</td>\n",
       "            <td class=\"value\">None</td>\n",
       "        </tr>\n",
       "    \n",
       "                  </tbody>\n",
       "                </table>\n",
       "            </details>\n",
       "        </div>\n",
       "    </div></div></div></div></div></div><div class=\"sk-parallel-item\"><div class=\"sk-item\"><div class=\"sk-label-container\"><div class=\"sk-label fitted sk-toggleable\"><label>svm</label></div></div><div class=\"sk-serial\"><div class=\"sk-item\"><div class=\"sk-estimator fitted sk-toggleable\"><input class=\"sk-toggleable__control sk-hidden--visually\" id=\"sk-estimator-id-3\" type=\"checkbox\" ><label for=\"sk-estimator-id-3\" class=\"sk-toggleable__label fitted sk-toggleable__label-arrow\"><div><div>SVC</div></div><div><a class=\"sk-estimator-doc-link fitted\" rel=\"noreferrer\" target=\"_blank\" href=\"https://scikit-learn.org/1.7/modules/generated/sklearn.svm.SVC.html\">?<span>Documentation for SVC</span></a></div></label><div class=\"sk-toggleable__content fitted\" data-param-prefix=\"svm__\">\n",
       "        <div class=\"estimator-table\">\n",
       "            <details>\n",
       "                <summary>Parameters</summary>\n",
       "                <table class=\"parameters-table\">\n",
       "                  <tbody>\n",
       "                    \n",
       "        <tr class=\"user-set\">\n",
       "            <td><i class=\"copy-paste-icon\"\n",
       "                 onclick=\"copyToClipboard('C',\n",
       "                          this.parentElement.nextElementSibling)\"\n",
       "            ></i></td>\n",
       "            <td class=\"param\">C&nbsp;</td>\n",
       "            <td class=\"value\">0.1</td>\n",
       "        </tr>\n",
       "    \n",
       "\n",
       "        <tr class=\"default\">\n",
       "            <td><i class=\"copy-paste-icon\"\n",
       "                 onclick=\"copyToClipboard('kernel',\n",
       "                          this.parentElement.nextElementSibling)\"\n",
       "            ></i></td>\n",
       "            <td class=\"param\">kernel&nbsp;</td>\n",
       "            <td class=\"value\">&#x27;rbf&#x27;</td>\n",
       "        </tr>\n",
       "    \n",
       "\n",
       "        <tr class=\"default\">\n",
       "            <td><i class=\"copy-paste-icon\"\n",
       "                 onclick=\"copyToClipboard('degree',\n",
       "                          this.parentElement.nextElementSibling)\"\n",
       "            ></i></td>\n",
       "            <td class=\"param\">degree&nbsp;</td>\n",
       "            <td class=\"value\">3</td>\n",
       "        </tr>\n",
       "    \n",
       "\n",
       "        <tr class=\"default\">\n",
       "            <td><i class=\"copy-paste-icon\"\n",
       "                 onclick=\"copyToClipboard('gamma',\n",
       "                          this.parentElement.nextElementSibling)\"\n",
       "            ></i></td>\n",
       "            <td class=\"param\">gamma&nbsp;</td>\n",
       "            <td class=\"value\">&#x27;scale&#x27;</td>\n",
       "        </tr>\n",
       "    \n",
       "\n",
       "        <tr class=\"default\">\n",
       "            <td><i class=\"copy-paste-icon\"\n",
       "                 onclick=\"copyToClipboard('coef0',\n",
       "                          this.parentElement.nextElementSibling)\"\n",
       "            ></i></td>\n",
       "            <td class=\"param\">coef0&nbsp;</td>\n",
       "            <td class=\"value\">0.0</td>\n",
       "        </tr>\n",
       "    \n",
       "\n",
       "        <tr class=\"default\">\n",
       "            <td><i class=\"copy-paste-icon\"\n",
       "                 onclick=\"copyToClipboard('shrinking',\n",
       "                          this.parentElement.nextElementSibling)\"\n",
       "            ></i></td>\n",
       "            <td class=\"param\">shrinking&nbsp;</td>\n",
       "            <td class=\"value\">True</td>\n",
       "        </tr>\n",
       "    \n",
       "\n",
       "        <tr class=\"user-set\">\n",
       "            <td><i class=\"copy-paste-icon\"\n",
       "                 onclick=\"copyToClipboard('probability',\n",
       "                          this.parentElement.nextElementSibling)\"\n",
       "            ></i></td>\n",
       "            <td class=\"param\">probability&nbsp;</td>\n",
       "            <td class=\"value\">True</td>\n",
       "        </tr>\n",
       "    \n",
       "\n",
       "        <tr class=\"default\">\n",
       "            <td><i class=\"copy-paste-icon\"\n",
       "                 onclick=\"copyToClipboard('tol',\n",
       "                          this.parentElement.nextElementSibling)\"\n",
       "            ></i></td>\n",
       "            <td class=\"param\">tol&nbsp;</td>\n",
       "            <td class=\"value\">0.001</td>\n",
       "        </tr>\n",
       "    \n",
       "\n",
       "        <tr class=\"default\">\n",
       "            <td><i class=\"copy-paste-icon\"\n",
       "                 onclick=\"copyToClipboard('cache_size',\n",
       "                          this.parentElement.nextElementSibling)\"\n",
       "            ></i></td>\n",
       "            <td class=\"param\">cache_size&nbsp;</td>\n",
       "            <td class=\"value\">200</td>\n",
       "        </tr>\n",
       "    \n",
       "\n",
       "        <tr class=\"default\">\n",
       "            <td><i class=\"copy-paste-icon\"\n",
       "                 onclick=\"copyToClipboard('class_weight',\n",
       "                          this.parentElement.nextElementSibling)\"\n",
       "            ></i></td>\n",
       "            <td class=\"param\">class_weight&nbsp;</td>\n",
       "            <td class=\"value\">None</td>\n",
       "        </tr>\n",
       "    \n",
       "\n",
       "        <tr class=\"default\">\n",
       "            <td><i class=\"copy-paste-icon\"\n",
       "                 onclick=\"copyToClipboard('verbose',\n",
       "                          this.parentElement.nextElementSibling)\"\n",
       "            ></i></td>\n",
       "            <td class=\"param\">verbose&nbsp;</td>\n",
       "            <td class=\"value\">False</td>\n",
       "        </tr>\n",
       "    \n",
       "\n",
       "        <tr class=\"default\">\n",
       "            <td><i class=\"copy-paste-icon\"\n",
       "                 onclick=\"copyToClipboard('max_iter',\n",
       "                          this.parentElement.nextElementSibling)\"\n",
       "            ></i></td>\n",
       "            <td class=\"param\">max_iter&nbsp;</td>\n",
       "            <td class=\"value\">-1</td>\n",
       "        </tr>\n",
       "    \n",
       "\n",
       "        <tr class=\"default\">\n",
       "            <td><i class=\"copy-paste-icon\"\n",
       "                 onclick=\"copyToClipboard('decision_function_shape',\n",
       "                          this.parentElement.nextElementSibling)\"\n",
       "            ></i></td>\n",
       "            <td class=\"param\">decision_function_shape&nbsp;</td>\n",
       "            <td class=\"value\">&#x27;ovr&#x27;</td>\n",
       "        </tr>\n",
       "    \n",
       "\n",
       "        <tr class=\"default\">\n",
       "            <td><i class=\"copy-paste-icon\"\n",
       "                 onclick=\"copyToClipboard('break_ties',\n",
       "                          this.parentElement.nextElementSibling)\"\n",
       "            ></i></td>\n",
       "            <td class=\"param\">break_ties&nbsp;</td>\n",
       "            <td class=\"value\">False</td>\n",
       "        </tr>\n",
       "    \n",
       "\n",
       "        <tr class=\"user-set\">\n",
       "            <td><i class=\"copy-paste-icon\"\n",
       "                 onclick=\"copyToClipboard('random_state',\n",
       "                          this.parentElement.nextElementSibling)\"\n",
       "            ></i></td>\n",
       "            <td class=\"param\">random_state&nbsp;</td>\n",
       "            <td class=\"value\">42</td>\n",
       "        </tr>\n",
       "    \n",
       "                  </tbody>\n",
       "                </table>\n",
       "            </details>\n",
       "        </div>\n",
       "    </div></div></div></div></div></div></div></div></div></div><script>function copyToClipboard(text, element) {\n",
       "    // Get the parameter prefix from the closest toggleable content\n",
       "    const toggleableContent = element.closest('.sk-toggleable__content');\n",
       "    const paramPrefix = toggleableContent ? toggleableContent.dataset.paramPrefix : '';\n",
       "    const fullParamName = paramPrefix ? `${paramPrefix}${text}` : text;\n",
       "\n",
       "    const originalStyle = element.style;\n",
       "    const computedStyle = window.getComputedStyle(element);\n",
       "    const originalWidth = computedStyle.width;\n",
       "    const originalHTML = element.innerHTML.replace('Copied!', '');\n",
       "\n",
       "    navigator.clipboard.writeText(fullParamName)\n",
       "        .then(() => {\n",
       "            element.style.width = originalWidth;\n",
       "            element.style.color = 'green';\n",
       "            element.innerHTML = \"Copied!\";\n",
       "\n",
       "            setTimeout(() => {\n",
       "                element.innerHTML = originalHTML;\n",
       "                element.style = originalStyle;\n",
       "            }, 2000);\n",
       "        })\n",
       "        .catch(err => {\n",
       "            console.error('Failed to copy:', err);\n",
       "            element.style.color = 'red';\n",
       "            element.innerHTML = \"Failed!\";\n",
       "            setTimeout(() => {\n",
       "                element.innerHTML = originalHTML;\n",
       "                element.style = originalStyle;\n",
       "            }, 2000);\n",
       "        });\n",
       "    return false;\n",
       "}\n",
       "\n",
       "document.querySelectorAll('.fa-regular.fa-copy').forEach(function(element) {\n",
       "    const toggleableContent = element.closest('.sk-toggleable__content');\n",
       "    const paramPrefix = toggleableContent ? toggleableContent.dataset.paramPrefix : '';\n",
       "    const paramName = element.parentElement.nextElementSibling.textContent.trim();\n",
       "    const fullParamName = paramPrefix ? `${paramPrefix}${paramName}` : paramName;\n",
       "\n",
       "    element.setAttribute('title', fullParamName);\n",
       "});\n",
       "</script></body>"
      ]
     },
     "execution_count": 40,
     "metadata": {},
     "output_type": "execute_result"
    }
   ],
   "execution_count": 40
  },
  {
   "cell_type": "markdown",
   "id": "ebcf0ee4",
   "metadata": {
    "id": "ebcf0ee4"
   },
   "source": [
    "    Building an ANN model"
   ]
  },
  {
   "cell_type": "code",
   "id": "b11e69f3",
   "metadata": {
    "id": "b11e69f3",
    "executionInfo": {
     "status": "ok",
     "timestamp": 1754998049067,
     "user_tz": -330,
     "elapsed": 1,
     "user": {
      "displayName": "Rajesh kaki",
      "userId": "09089150325470777959"
     }
    },
    "ExecuteTime": {
     "end_time": "2025-08-12T13:25:13.908827Z",
     "start_time": "2025-08-12T13:25:13.903464Z"
    }
   },
   "source": [
    "# ------------------ Models Dictionary ---------------------\n",
    "models = {\n",
    "    'Random Forest': rf_best,\n",
    "    'Decision Tree': dt_best,\n",
    "    'Logistic Regression': lr_best,\n",
    "    'SVM': svm_best,\n",
    "    'KNN': knn_best,\n",
    "    'Ensemble': ensemble,\n",
    "}\n"
   ],
   "outputs": [],
   "execution_count": 41
  },
  {
   "cell_type": "code",
   "id": "efe72f50",
   "metadata": {
    "colab": {
     "base_uri": "https://localhost:8080/",
     "height": 1000
    },
    "id": "efe72f50",
    "executionInfo": {
     "status": "ok",
     "timestamp": 1754998100718,
     "user_tz": -330,
     "elapsed": 51650,
     "user": {
      "displayName": "Rajesh kaki",
      "userId": "09089150325470777959"
     }
    },
    "outputId": "b62d2313-10f2-4c86-cfa0-f2ebe8e91123",
    "ExecuteTime": {
     "end_time": "2025-08-12T13:25:55.845831Z",
     "start_time": "2025-08-12T13:25:13.929134Z"
    }
   },
   "source": [
    "# -------------- Evaluation & Visualization ----------------\n",
    "results = []\n",
    "plt.figure(figsize=(10, 8))\n",
    "model_colors = ['b', 'g', 'r', 'm', 'y', 'c']\n",
    "\n",
    "for i, (name, model) in enumerate(models.items()):\n",
    "    print(f\"\\n{'='*20} Evaluating {name} {'='*20}\")\n",
    "    # Determine input data type\n",
    "    X_eval = X_test_scaled if name in ['SVM', 'KNN', 'Ensemble'] else X_test\n",
    "\n",
    "    # Get predictions\n",
    "    if hasattr(model, 'predict_proba'):\n",
    "        y_proba = model.predict_proba(X_eval)[:, 1]\n",
    "        y_pred = (y_proba >= 0.5).astype(int)  # Threshold at 0.5\n",
    "    else:\n",
    "        y_pred = model.predict(X_eval)\n",
    "        y_proba = None\n",
    "\n",
    "    # Calculate metrics\n",
    "    acc = accuracy_score(y_test, y_pred)\n",
    "    auc = roc_auc_score(y_test, y_proba) if y_proba is not None else np.nan\n",
    "\n",
    "    # Cross-validation\n",
    "    cv_scores = cross_val_score(model, X, y, cv=5, scoring='accuracy')\n",
    "\n",
    "    # Print and store results\n",
    "    print(f\"Accuracy: {acc:.4f}\")\n",
    "    print(f\"ROC AUC: {auc:.4f}\" if not np.isnan(auc) else \"ROC AUC: N/A\")\n",
    "    print(\"Classification Report:\")\n",
    "    print(classification_report(y_test, y_pred))\n",
    "    conf_mat = confusion_matrix(y_test, y_pred)\n",
    "    print(\"Confusion Matrix:\")\n",
    "    print(conf_mat)\n",
    "    print(f\"5-Fold CV Accuracy: {cv_scores.mean():.4f} ± {cv_scores.std():.4f}\")\n",
    "\n",
    "    results.append({\n",
    "        'Model': name,\n",
    "        'Test Accuracy': acc,\n",
    "        'ROC AUC': auc,\n",
    "        'CV Accuracy Mean': cv_scores.mean(),\n",
    "        'CV Accuracy Std': cv_scores.std()\n",
    "    })\n",
    "\n",
    "    # Plot ROC curve if applicable\n",
    "    if not np.isnan(auc):\n",
    "        RocCurveDisplay.from_predictions(\n",
    "            y_test,\n",
    "            y_proba,\n",
    "            name=name,\n",
    "            color=model_colors[i % len(model_colors)]\n",
    "        )\n",
    "plt.title(\"ROC Curves for All Models\")\n",
    "plt.plot([0, 1], [0, 1], 'k--', label='Random Chance')\n",
    "plt.legend()\n",
    "plt.show()\n"
   ],
   "outputs": [
    {
     "name": "stdout",
     "output_type": "stream",
     "text": [
      "\n",
      "==================== Evaluating Random Forest ====================\n",
      "Accuracy: 0.7125\n",
      "ROC AUC: 0.7945\n",
      "Classification Report:\n",
      "              precision    recall  f1-score   support\n",
      "\n",
      "           0       0.72      0.67      0.69       583\n",
      "           1       0.71      0.75      0.73       617\n",
      "\n",
      "    accuracy                           0.71      1200\n",
      "   macro avg       0.71      0.71      0.71      1200\n",
      "weighted avg       0.71      0.71      0.71      1200\n",
      "\n",
      "Confusion Matrix:\n",
      "[[390 193]\n",
      " [152 465]]\n",
      "5-Fold CV Accuracy: 0.7390 ± 0.0068\n",
      "\n",
      "==================== Evaluating Decision Tree ====================\n",
      "Accuracy: 0.6742\n",
      "ROC AUC: 0.7003\n",
      "Classification Report:\n"
     ]
    },
    {
     "name": "stderr",
     "output_type": "stream",
     "text": [
      "C:\\Python\\python_basics\\fraud_analysis\\.venv\\Lib\\site-packages\\sklearn\\utils\\_plotting.py:175: FutureWarning: `**kwargs` is deprecated and will be removed in 1.9. Pass all matplotlib arguments to `curve_kwargs` as a dictionary instead.\n",
      "  warnings.warn(\n",
      "C:\\Python\\python_basics\\fraud_analysis\\.venv\\Lib\\site-packages\\sklearn\\utils\\_plotting.py:175: FutureWarning: `**kwargs` is deprecated and will be removed in 1.9. Pass all matplotlib arguments to `curve_kwargs` as a dictionary instead.\n",
      "  warnings.warn(\n"
     ]
    },
    {
     "name": "stdout",
     "output_type": "stream",
     "text": [
      "              precision    recall  f1-score   support\n",
      "\n",
      "           0       0.69      0.60      0.64       583\n",
      "           1       0.66      0.74      0.70       617\n",
      "\n",
      "    accuracy                           0.67      1200\n",
      "   macro avg       0.68      0.67      0.67      1200\n",
      "weighted avg       0.68      0.67      0.67      1200\n",
      "\n",
      "Confusion Matrix:\n",
      "[[350 233]\n",
      " [158 459]]\n",
      "5-Fold CV Accuracy: 0.6987 ± 0.0124\n",
      "\n",
      "==================== Evaluating Logistic Regression ====================\n",
      "Accuracy: 0.7317\n",
      "ROC AUC: 0.8040\n",
      "Classification Report:\n",
      "              precision    recall  f1-score   support\n",
      "\n",
      "           0       0.73      0.71      0.72       583\n",
      "           1       0.73      0.75      0.74       617\n",
      "\n",
      "    accuracy                           0.73      1200\n",
      "   macro avg       0.73      0.73      0.73      1200\n",
      "weighted avg       0.73      0.73      0.73      1200\n",
      "\n",
      "Confusion Matrix:\n",
      "[[414 169]\n",
      " [153 464]]\n",
      "5-Fold CV Accuracy: 0.7442 ± 0.0089\n"
     ]
    },
    {
     "name": "stderr",
     "output_type": "stream",
     "text": [
      "C:\\Python\\python_basics\\fraud_analysis\\.venv\\Lib\\site-packages\\sklearn\\utils\\_plotting.py:175: FutureWarning: `**kwargs` is deprecated and will be removed in 1.9. Pass all matplotlib arguments to `curve_kwargs` as a dictionary instead.\n",
      "  warnings.warn(\n"
     ]
    },
    {
     "name": "stdout",
     "output_type": "stream",
     "text": [
      "\n",
      "==================== Evaluating SVM ====================\n",
      "Accuracy: 0.7300\n",
      "ROC AUC: 0.8003\n",
      "Classification Report:\n",
      "              precision    recall  f1-score   support\n",
      "\n",
      "           0       0.73      0.70      0.71       583\n",
      "           1       0.73      0.76      0.74       617\n",
      "\n",
      "    accuracy                           0.73      1200\n",
      "   macro avg       0.73      0.73      0.73      1200\n",
      "weighted avg       0.73      0.73      0.73      1200\n",
      "\n",
      "Confusion Matrix:\n",
      "[[406 177]\n",
      " [147 470]]\n",
      "5-Fold CV Accuracy: 0.7502 ± 0.0065\n",
      "\n",
      "==================== Evaluating KNN ====================\n",
      "Accuracy: 0.7142\n",
      "ROC AUC: 0.7699\n",
      "Classification Report:\n",
      "              precision    recall  f1-score   support\n",
      "\n",
      "           0       0.71      0.70      0.71       583\n",
      "           1       0.72      0.72      0.72       617\n",
      "\n",
      "    accuracy                           0.71      1200\n",
      "   macro avg       0.71      0.71      0.71      1200\n",
      "weighted avg       0.71      0.71      0.71      1200\n",
      "\n",
      "Confusion Matrix:\n",
      "[[410 173]\n",
      " [170 447]]\n",
      "5-Fold CV Accuracy: 0.7237 ± 0.0073\n",
      "\n",
      "==================== Evaluating Ensemble ====================\n"
     ]
    },
    {
     "name": "stderr",
     "output_type": "stream",
     "text": [
      "C:\\Python\\python_basics\\fraud_analysis\\.venv\\Lib\\site-packages\\sklearn\\utils\\_plotting.py:175: FutureWarning: `**kwargs` is deprecated and will be removed in 1.9. Pass all matplotlib arguments to `curve_kwargs` as a dictionary instead.\n",
      "  warnings.warn(\n",
      "C:\\Python\\python_basics\\fraud_analysis\\.venv\\Lib\\site-packages\\sklearn\\utils\\_plotting.py:175: FutureWarning: `**kwargs` is deprecated and will be removed in 1.9. Pass all matplotlib arguments to `curve_kwargs` as a dictionary instead.\n",
      "  warnings.warn(\n"
     ]
    },
    {
     "name": "stdout",
     "output_type": "stream",
     "text": [
      "Accuracy: 0.7333\n",
      "ROC AUC: 0.8072\n",
      "Classification Report:\n",
      "              precision    recall  f1-score   support\n",
      "\n",
      "           0       0.73      0.72      0.72       583\n",
      "           1       0.74      0.75      0.74       617\n",
      "\n",
      "    accuracy                           0.73      1200\n",
      "   macro avg       0.73      0.73      0.73      1200\n",
      "weighted avg       0.73      0.73      0.73      1200\n",
      "\n",
      "Confusion Matrix:\n",
      "[[420 163]\n",
      " [157 460]]\n",
      "5-Fold CV Accuracy: 0.7460 ± 0.0116\n"
     ]
    },
    {
     "name": "stderr",
     "output_type": "stream",
     "text": [
      "C:\\Python\\python_basics\\fraud_analysis\\.venv\\Lib\\site-packages\\sklearn\\utils\\_plotting.py:175: FutureWarning: `**kwargs` is deprecated and will be removed in 1.9. Pass all matplotlib arguments to `curve_kwargs` as a dictionary instead.\n",
      "  warnings.warn(\n"
     ]
    },
    {
     "data": {
      "text/plain": [
       "<Figure size 1000x800 with 0 Axes>"
      ]
     },
     "metadata": {},
     "output_type": "display_data"
    },
    {
     "data": {
      "text/plain": [
       "<Figure size 640x480 with 1 Axes>"
      ],
      "image/png": "[encoded data removed]"
     },
     "metadata": {},
     "output_type": "display_data"
    },
    {
     "data": {
      "text/plain": [
       "<Figure size 640x480 with 1 Axes>"
      ],
      "image/png": "[encoded data removed]"
     },
     "metadata": {},
     "output_type": "display_data"
    },
    {
     "data": {
      "text/plain": [
       "<Figure size 640x480 with 1 Axes>"
      ],
      "image/png": "[encoded data removed]"
     },
     "metadata": {},
     "output_type": "display_data"
    },
    {
     "data": {
      "text/plain": [
       "<Figure size 640x480 with 1 Axes>"
      ],
      "image/png": "[encoded data removed]"
     },
     "metadata": {},
     "output_type": "display_data"
    },
    {
     "data": {
      "text/plain": [
       "<Figure size 640x480 with 1 Axes>"
      ],
      "image/png": "[encoded data removed]"
     },
     "metadata": {},
     "output_type": "display_data"
    },
    {
     "data": {
      "text/plain": [
       "<Figure size 640x480 with 1 Axes>"
      ],
      "image/png": "[encoded data removed]"
     },
     "metadata": {},
     "output_type": "display_data"
    }
   ],
   "execution_count": 42
  },
  {
   "cell_type": "code",
   "id": "4f7fb472",
   "metadata": {
    "colab": {
     "base_uri": "https://localhost:8080/",
     "height": 1000
    },
    "id": "4f7fb472",
    "executionInfo": {
     "status": "ok",
     "timestamp": 1754998102657,
     "user_tz": -330,
     "elapsed": 1937,
     "user": {
      "displayName": "Rajesh kaki",
      "userId": "09089150325470777959"
     }
    },
    "outputId": "31db6d93-49e2-410b-85fb-c239899ca76f",
    "ExecuteTime": {
     "end_time": "2025-08-12T13:25:57.405579Z",
     "start_time": "2025-08-12T13:25:55.856278Z"
    }
   },
   "source": [
    "# Confusion matrices\n",
    "for name, model in models.items():\n",
    "    X_eval = X_test_scaled if name in ['SVM', 'KNN', 'Ensemble'] else X_test\n",
    "    y_pred = model.predict(X_eval)\n",
    "    conf_mat = confusion_matrix(y_test, y_pred)\n",
    "    plt.figure(figsize=(5, 4))\n",
    "    sns.heatmap(conf_mat, annot=True, fmt='d', cmap='Blues')\n",
    "    plt.xlabel('Predicted')\n",
    "    plt.ylabel('Actual')\n",
    "    plt.title(f'{name} Confusion Matrix')\n",
    "    plt.show()\n"
   ],
   "outputs": [
    {
     "data": {
      "text/plain": [
       "<Figure size 500x400 with 2 Axes>"
      ],
      "image/png": "[encoded data removed]"
     },
     "metadata": {},
     "output_type": "display_data"
    },
    {
     "data": {
      "text/plain": [
       "<Figure size 500x400 with 2 Axes>"
      ],
      "image/png": "[encoded data removed]"
     },
     "metadata": {},
     "output_type": "display_data"
    },
    {
     "data": {
      "text/plain": [
       "<Figure size 500x400 with 2 Axes>"
      ],
      "image/png": "[encoded data removed]"
     },
     "metadata": {},
     "output_type": "display_data"
    },
    {
     "data": {
      "text/plain": [
       "<Figure size 500x400 with 2 Axes>"
      ],
      "image/png": "[encoded data removed]"
     },
     "metadata": {},
     "output_type": "display_data"
    },
    {
     "data": {
      "text/plain": [
       "<Figure size 500x400 with 2 Axes>"
      ],
      "image/png": "[encoded data removed]"
     },
     "metadata": {},
     "output_type": "display_data"
    },
    {
     "data": {
      "text/plain": [
       "<Figure size 500x400 with 2 Axes>"
      ],
      "image/png": "[encoded data removed]"
     },
     "metadata": {},
     "output_type": "display_data"
    }
   ],
   "execution_count": 43
  },
  {
   "cell_type": "code",
   "id": "71d671e2",
   "metadata": {
    "colab": {
     "base_uri": "https://localhost:8080/"
    },
    "id": "71d671e2",
    "executionInfo": {
     "status": "ok",
     "timestamp": 1754998102662,
     "user_tz": -330,
     "elapsed": 3,
     "user": {
      "displayName": "Rajesh kaki",
      "userId": "09089150325470777959"
     }
    },
    "outputId": "0d78f456-94fe-4720-8a7d-12ede6ad98e5",
    "ExecuteTime": {
     "end_time": "2025-08-12T13:25:57.427771Z",
     "start_time": "2025-08-12T13:25:57.415944Z"
    }
   },
   "source": [
    "# Summary table\n",
    "results_df = pd.DataFrame(results).sort_values(by='Test Accuracy', ascending=False).reset_index(drop=True)\n",
    "print(\"\\n\" + \"=\" * 40)\n",
    "print(\"Summary of Model Performance\\n\")\n",
    "print(results_df[['Model', 'Test Accuracy', 'ROC AUC', 'CV Accuracy Mean', 'CV Accuracy Std']])\n",
    "print(\"=\" * 40)"
   ],
   "outputs": [
    {
     "name": "stdout",
     "output_type": "stream",
     "text": [
      "\n",
      "========================================\n",
      "Summary of Model Performance\n",
      "\n",
      "                 Model  Test Accuracy   ROC AUC  CV Accuracy Mean  \\\n",
      "0             Ensemble       0.733333  0.807192          0.746000   \n",
      "1  Logistic Regression       0.731667  0.804009          0.744167   \n",
      "2                  SVM       0.730000  0.800263          0.750167   \n",
      "3                  KNN       0.714167  0.769878          0.723667   \n",
      "4        Random Forest       0.712500  0.794466          0.739000   \n",
      "5        Decision Tree       0.674167  0.700251          0.698667   \n",
      "\n",
      "   CV Accuracy Std  \n",
      "0         0.011600  \n",
      "1         0.008882  \n",
      "2         0.006549  \n",
      "3         0.007257  \n",
      "4         0.006819  \n",
      "5         0.012412  \n",
      "========================================\n"
     ]
    }
   ],
   "execution_count": 44
  },
  {
   "cell_type": "code",
   "id": "38a95a40",
   "metadata": {
    "id": "38a95a40",
    "executionInfo": {
     "status": "ok",
     "timestamp": 1754998102678,
     "user_tz": -330,
     "elapsed": 11,
     "user": {
      "displayName": "Rajesh kaki",
      "userId": "09089150325470777959"
     }
    },
    "ExecuteTime": {
     "end_time": "2025-08-12T13:25:57.467978Z",
     "start_time": "2025-08-12T13:25:57.461202Z"
    }
   },
   "source": [
    "# Feature importance visualization for Tree models\n",
    "def plot_feature_importance(model, feature_names, model_name):\n",
    "    importances = model.feature_importances_\n",
    "    indices = np.argsort(importances)[::-1]\n",
    "    plt.figure(figsize=(8, 5))\n",
    "    plt.title(f'Feature Importances for {model_name}')\n",
    "    sns.barplot(x=importances[indices], y=np.array(feature_names)[indices])\n",
    "    plt.tight_layout()\n",
    "    plt.show()"
   ],
   "outputs": [],
   "execution_count": 45
  },
  {
   "cell_type": "code",
   "id": "cb86cb1a",
   "metadata": {
    "colab": {
     "base_uri": "https://localhost:8080/",
     "height": 1000
    },
    "id": "cb86cb1a",
    "executionInfo": {
     "status": "ok",
     "timestamp": 1754998103041,
     "user_tz": -330,
     "elapsed": 362,
     "user": {
      "displayName": "Rajesh kaki",
      "userId": "09089150325470777959"
     }
    },
    "outputId": "12e31706-bd37-43bd-d931-21f92e38460d",
    "ExecuteTime": {
     "end_time": "2025-08-12T13:25:57.891065Z",
     "start_time": "2025-08-12T13:25:57.481274Z"
    }
   },
   "source": [
    "if hasattr(rf_best, \"feature_importances_\"):\n",
    "    plot_feature_importance(rf_best, X.columns, \"Random Forest\")\n",
    "if hasattr(dt_best, \"feature_importances_\"):\n",
    "    plot_feature_importance(dt_best, X.columns, \"Decision Tree\")\n",
    "\n",
    "# Best model print and save\n",
    "best_model_name = results_df.iloc[0]['Model']\n",
    "print(f\"\\nBest performing model: {best_model_name}\")"
   ],
   "outputs": [
    {
     "data": {
      "text/plain": [
       "<Figure size 800x500 with 1 Axes>"
      ],
      "image/png": "[encoded data removed]"
     },
     "metadata": {},
     "output_type": "display_data"
    },
    {
     "data": {
      "text/plain": [
       "<Figure size 800x500 with 1 Axes>"
      ],
      "image/png": "[encoded data removed]"
     },
     "metadata": {},
     "output_type": "display_data"
    },
    {
     "name": "stdout",
     "output_type": "stream",
     "text": [
      "\n",
      "Best performing model: Ensemble\n"
     ]
    }
   ],
   "execution_count": 46
  },
  {
   "cell_type": "code",
   "id": "f47f6648",
   "metadata": {
    "id": "f47f6648",
    "executionInfo": {
     "status": "ok",
     "timestamp": 1755000526515,
     "user_tz": -330,
     "elapsed": 5994,
     "user": {
      "displayName": "Rajesh kaki",
      "userId": "09089150325470777959"
     }
    },
    "ExecuteTime": {
     "end_time": "2025-08-12T14:03:28.015533Z",
     "start_time": "2025-08-12T14:03:22.859659Z"
    }
   },
   "source": [
    "import pickle, json\n",
    "from sklearn.model_selection import train_test_split\n",
    "from sklearn.svm import SVC\n",
    "from sklearn.metrics import classification_report, roc_auc_score\n",
    "\n",
    "\n",
    "feature_order = list(X.columns)\n",
    "\n",
    "# Best params\n",
    "model = SVC(\n",
    "    kernel='rbf',\n",
    "    C=0.1,\n",
    "    gamma='scale',\n",
    "    probability=True\n",
    ")\n",
    "\n",
    "model.fit(X_train_scaled, y_train)\n",
    "\n",
    "# Save model + scaler + feature order\n",
    "with open(\"svm_model.pkl\", \"wb\") as f:\n",
    "    pickle.dump(model, f)\n",
    "\n",
    "with open(\"scaler.pkl\", \"wb\") as f:\n",
    "    pickle.dump(scaler, f)  # from your earlier fit\n",
    "\n",
    "with open(\"feature_order.json\", \"w\") as f:\n",
    "    json.dump(feature_order, f)\n"
   ],
   "outputs": [],
   "execution_count": 58
  },
  {
   "cell_type": "code",
   "source": [
    "import pickle, json\n",
    "import numpy as np\n",
    "import streamlit as st\n",
    "from pathlib import Path\n",
    "\n",
    "st.set_page_config(page_title=\"Diabetic Retinopathy Prediction\")\n",
    "st.title(\"Diabetic Retinopathy Prediction\")\n",
    "\n",
    "# Load model, scaler, and feature order\n",
    "try:\n",
    "    with open(\"svm_model.pkl\", \"rb\") as f:\n",
    "        model = pickle.load(f)\n",
    "    with open(\"scaler.pkl\", \"rb\") as f:\n",
    "        scaler = pickle.load(f)\n",
    "    with open(\"feature_order.json\", \"r\") as f:\n",
    "        feature_order = json.load(f)\n",
    "except Exception as e:\n",
    "    st.error(f\"Failed to load model/scaler/feature_order: {e}\")\n",
    "    st.stop()\n",
    "\n",
    "app_code = \"\"\"\n",
    "import json, pickle, numpy as np, streamlit as st\n",
    "\n",
    "st.set_page_config(page_title=\"Diabetic Retinopathy Prediction\")\n",
    "st.title(\"Diabetic Retinopathy Prediction\")\n",
    "\n",
    "# Load model, scaler, and feature order\n",
    "with open(\"svm_model.pkl\", \"rb\") as f:\n",
    "    model = pickle.load(f)\n",
    "with open(\"scaler.pkl\", \"rb\") as f:\n",
    "    scaler = pickle.load(f)\n",
    "with open(\"feature_order.json\", \"r\") as f:\n",
    "    feature_order = json.load(f)\n",
    "\n",
    "# UI\n",
    "col1, col2 = st.columns(2)\n",
    "with col1:\n",
    "    age = st.slider(\"Age (years)\", 0, 100, 50)\n",
    "    systolic_bp = st.number_input(\"Systolic BP\", 50.0, 250.0, 120.0)\n",
    "with col2:\n",
    "    diastolic_bp = st.number_input(\"Diastolic BP \", 30.0, 150.0, 80.0)\n",
    "    cholesterol = st.number_input(\"Cholesterol \", 50.0, 500.0, 180.0)\n",
    "\n",
    "# Prepare input\n",
    "vals = {'age': age, 'systolic_bp': systolic_bp, 'diastolic_bp': diastolic_bp, 'cholesterol': cholesterol}\n",
    "x = np.array([[vals[c] for c in feature_order]], dtype=float)\n",
    "\n",
    "\n",
    "if st.button(\"Predict\"):\n",
    "    pred = int(model.predict(x)[0])\n",
    "    proba = float(model.predict_proba(x)[0][1])\n",
    "\n",
    "    if pred == 1:\n",
    "        st.markdown(\"### Retinopathy: **Yes**\")\n",
    "    else:\n",
    "        st.markdown(\"### Retinopathy: **No**\")\n",
    "\"\"\"\n",
    "\n",
    "Path(\"app.py\").write_text(app_code, encoding=\"utf-8\")"
   ],
   "metadata": {
    "colab": {
     "base_uri": "https://localhost:8080/"
    },
    "id": "qvkSqD77KI7r",
    "executionInfo": {
     "status": "ok",
     "timestamp": 1755001454722,
     "user_tz": -330,
     "elapsed": 8,
     "user": {
      "displayName": "Rajesh kaki",
      "userId": "09089150325470777959"
     }
    },
    "outputId": "e488ea68-37e9-4d5a-e950-edbc1a9070eb",
    "ExecuteTime": {
     "end_time": "2025-08-12T14:03:33.796028Z",
     "start_time": "2025-08-12T14:03:33.774007Z"
    }
   },
   "id": "qvkSqD77KI7r",
   "outputs": [
    {
     "name": "stderr",
     "output_type": "stream",
     "text": [
      "2025-08-12 19:33:33.780 Thread 'MainThread': missing ScriptRunContext! This warning can be ignored when running in bare mode.\n",
      "2025-08-12 19:33:33.782 Thread 'MainThread': missing ScriptRunContext! This warning can be ignored when running in bare mode.\n",
      "2025-08-12 19:33:33.782 Thread 'MainThread': missing ScriptRunContext! This warning can be ignored when running in bare mode.\n",
      "2025-08-12 19:33:33.784 Thread 'MainThread': missing ScriptRunContext! This warning can be ignored when running in bare mode.\n"
     ]
    },
    {
     "data": {
      "text/plain": [
       "1140"
      ]
     },
     "execution_count": 60,
     "metadata": {},
     "output_type": "execute_result"
    }
   ],
   "execution_count": 60
  },
  {
   "cell_type": "code",
   "source": [],
   "metadata": {
    "id": "iSbFc1eRKJXh"
   },
   "id": "iSbFc1eRKJXh",
   "execution_count": null,
   "outputs": []
  },
  {
   "cell_type": "code",
   "source": [],
   "metadata": {
    "id": "t4kGLiTAKJcN"
   },
   "id": "t4kGLiTAKJcN",
   "execution_count": null,
   "outputs": []
  }
 ],
 "metadata": {
  "colab": {
   "provenance": []
  },
  "kernelspec": {
   "display_name": "Python 3 (ipykernel)",
   "language": "python",
   "name": "python3"
  },
  "language_info": {
   "codemirror_mode": {
    "name": "ipython",
    "version": 3
   },
   "file_extension": ".py",
   "mimetype": "text/x-python",
   "name": "python",
   "nbconvert_exporter": "python",
   "pygments_lexer": "ipython3",
   "version": "3.9.7"
  }
 },
 "nbformat": 4,
 "nbformat_minor": 5
}
